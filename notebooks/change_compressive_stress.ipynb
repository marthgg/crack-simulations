{
 "cells": [
  {
   "cell_type": "markdown",
   "id": "5e691fac-afad-4316-ae55-026c4df070c5",
   "metadata": {},
   "source": [
    "**Change in compressive stress**"
   ]
  },
  {
   "cell_type": "code",
   "execution_count": null,
   "id": "17888072-34b9-4499-a923-24774e511174",
   "metadata": {},
   "outputs": [],
   "source": [
    "import numpy as np\n",
    "import matplotlib.pyplot as plt\n",
    "import os\n",
    "\n",
    "# Packages form Henriks Github\n",
    "from lammps_logfile import running_mean, get_color_value\n",
    "from regex_file_collector import Collector\n",
    "from regex_file_collector.utils import floating_number_pattern\n",
    "import lammps_logfile"
   ]
  },
  {
   "cell_type": "markdown",
   "id": "0410fa9c-1602-4898-8c82-e659b535c087",
   "metadata": {},
   "source": [
    "**Save figure**"
   ]
  },
  {
   "cell_type": "code",
   "execution_count": 14,
   "id": "842c0723-edb6-4318-a300-f4cee0bfdc36",
   "metadata": {},
   "outputs": [],
   "source": [
    "def save_figure(output_file_name):\n",
    "    plt.savefig(output_file_name, dpi=None, facecolor='w', edgecolor='w', orientation='portrait')"
   ]
  },
  {
   "cell_type": "code",
   "execution_count": 7,
   "id": "5341eeb0-64c4-4c4c-afa7-adb7f251df6c",
   "metadata": {},
   "outputs": [],
   "source": [
    "paths = ['/home/users/marthgg/2021_10_change_pressureX/crack_simulation_pressX_1000/fracture_displacement.npy',\n",
    "         '/home/users/marthgg/2021_10_change_pressureX/crack_simulation_pressX_2000/fracture_displacement.npy',\n",
    "         '/home/users/marthgg/2021_10_change_pressureX/crack_simulation_pressX_3000/fracture_displacement.npy',\n",
    "         '/home/users/marthgg/2021_10_change_pressureX/crack_simulation_pressX_4000/fracture_displacement.npy',\n",
    "         '/home/users/marthgg/2021_08_quartz_simulations/crack_simulation_deformZ_1.030000/fracture_displacement.npy',\n",
    "         '/home/users/marthgg/2021_10_change_pressureX/crack_simulation_pressX_6000/fracture_displacement.npy',\n",
    "         '/home/users/marthgg/2021_10_change_pressureX/crack_simulation_pressX_7000/fracture_displacement.npy',\n",
    "         '/home/users/marthgg/2021_10_change_pressureX/crack_simulation_pressX_10000/fracture_displacement.npy',\n",
    "         '/home/users/marthgg/2021_10_change_pressureX/crack_simulation_pressX_20000/fracture_displacement.npy',\n",
    "         '/home/users/marthgg/2021_10_change_pressureX/crack_simulation_pressX_30000/fracture_displacement.npy']\n",
    "\n",
    "stress_x = [100, 200, 300, 400, 500, 600, 700, 1000, 2000, 3000]"
   ]
  },
  {
   "cell_type": "code",
   "execution_count": 15,
   "id": "fb7c682c-856d-4767-ae81-69df0718228f",
   "metadata": {},
   "outputs": [
    {
     "name": "stdout",
     "output_type": "stream",
     "text": [
      "/home/users/marthgg/2021_10_change_pressureX/crack_simulation_pressX_1000/fracture_displacement.npy\n",
      "42\n",
      "/home/users/marthgg/2021_10_change_pressureX/crack_simulation_pressX_2000/fracture_displacement.npy\n",
      "42\n",
      "/home/users/marthgg/2021_10_change_pressureX/crack_simulation_pressX_3000/fracture_displacement.npy\n",
      "42\n",
      "/home/users/marthgg/2021_08_quartz_simulations/crack_simulation_deformZ_1.030000/fracture_displacement.npy\n",
      "43\n",
      "/home/users/marthgg/2021_10_change_pressureX/crack_simulation_pressX_6000/fracture_displacement.npy\n",
      "38\n",
      "/home/users/marthgg/2021_10_change_pressureX/crack_simulation_pressX_7000/fracture_displacement.npy\n",
      "36\n"
     ]
    },
    {
     "data": {
      "image/png": "[encoded data removed]",
      "text/plain": [
       "<Figure size 432x288 with 1 Axes>"
      ]
     },
     "metadata": {
      "needs_background": "light"
     },
     "output_type": "display_data"
    }
   ],
   "source": [
    "system_length = 3000\n",
    "crack_start_point = 150\n",
    "\n",
    "k = 0\n",
    "\n",
    "for path in paths:\n",
    "        \n",
    "    filename = path\n",
    "\n",
    "    data = np.load(filename, allow_pickle=False)\n",
    "    frames = list(range(0, len(data)))\n",
    "\n",
    "    filtered_data_crackTip = []\n",
    "    filtered_data_frames   = []\n",
    "\n",
    "    for i in range(0, len(data)):\n",
    "        if data[i] > crack_start_point and data[i] < system_length:\n",
    "            filtered_data_crackTip.append(data[i])\n",
    "            filtered_data_frames.append(frames[i])            \n",
    "    \n",
    "    for i in range(0, len(filtered_data_frames)):\n",
    "        if filtered_data_crackTip[i] > 2910:\n",
    "            print(filename)\n",
    "            print(filtered_data_frames[i])\n",
    "            break\n",
    "\n",
    "    # Find velocity\n",
    "    timestep = 0.001 # ps\n",
    "    dump_frequency = 10000\n",
    "\n",
    "    time_s = []\n",
    "    time = []\n",
    "    for i in range(0, len(filtered_data_frames)):\n",
    "        time.append(filtered_data_frames[i]*timestep*dump_frequency) #Time in ps\n",
    "        if filtered_data_crackTip[i] < 2910:\n",
    "            time_s.append(filtered_data_frames[i]*timestep*dump_frequency*(10**-12)) #time in s\n",
    "\n",
    "    position_m = []\n",
    "    for i in range(0, len(filtered_data_crackTip)):\n",
    "        if filtered_data_crackTip[i] < 2910:\n",
    "            position_m.append(filtered_data_crackTip[i]*(10**-10)) #distance in m\n",
    "\n",
    "    velocity = np.diff(position_m)/np.diff(time_s)\n",
    "    mean_velocity = np.mean(velocity)\n",
    "    \n",
    "    if path == '/home/users/marthgg/2021_08_quartz_simulations/crack_simulation_deformZ_1.030000/fracture_displacement.npy':\n",
    "        plt.figure(1)\n",
    "        plt.plot(stress_x[k], mean_velocity, 'ro')\n",
    "        plt.xlabel('compressive stress (MPa)')\n",
    "        plt.ylabel('Velocity (m/s)')\n",
    "        \n",
    "        save_figure('/home/users/marthgg/2021_11_figures/compressive_stress.ps')\n",
    "    \n",
    "    else:\n",
    "   \n",
    "        #plt.figure(1)\n",
    "        #plt.plot(filtered_data_frames, filtered_data_crackTip, color=get_color_value(float(stress_x[k]), 4000, 5000))\n",
    "        #plt.xlabel('Time (ps)')\n",
    "        #plt.ylabel('Position x')\n",
    "\n",
    "        plt.figure(1)\n",
    "        plt.plot(stress_x[k], mean_velocity, 'o', color=get_color_value(float(stress_x[k]), 4000, 5000))\n",
    "        plt.xlabel('compressive stress (MPa)')\n",
    "        plt.ylabel('Velocity (m/s)')\n",
    "        \n",
    "        save_figure('/home/users/marthgg/2021_11_figures/compressive_stress.ps')\n",
    "\n",
    "    k += 1"
   ]
  },
  {
   "cell_type": "code",
   "execution_count": null,
   "id": "ce76a9a7-2de1-4a6d-9bf1-82889bb8ef7c",
   "metadata": {},
   "outputs": [],
   "source": []
  }
 ],
 "metadata": {
  "kernelspec": {
   "display_name": "MD Analysis",
   "language": "python",
   "name": "md_analysis"
  },
  "language_info": {
   "codemirror_mode": {
    "name": "ipython",
    "version": 3
   },
   "file_extension": ".py",
   "mimetype": "text/x-python",
   "name": "python",
   "nbconvert_exporter": "python",
   "pygments_lexer": "ipython3",
   "version": "3.8.5"
  }
 },
 "nbformat": 4,
 "nbformat_minor": 5
}
