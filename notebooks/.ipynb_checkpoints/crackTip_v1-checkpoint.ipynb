{
 "cells": [
  {
   "cell_type": "code",
   "execution_count": 1,
   "id": "baking-outreach",
   "metadata": {},
   "outputs": [],
   "source": [
    "# Packages\n",
    "from ovito.io import *\n",
    "from ovito.modifiers import *\n",
    "from ovito.pipeline import *\n",
    "\n",
    "import matplotlib.pyplot as plt\n",
    "from scipy.optimize import curve_fit\n",
    "import numpy as np\n",
    "\n",
    "from lammps_logfile import get_color_value\n",
    "\n",
    "from regex_file_collector import Collector\n",
    "from regex_file_collector.utils import floating_number_pattern"
   ]
  },
  {
   "cell_type": "code",
   "execution_count": 2,
   "id": "second-garage",
   "metadata": {},
   "outputs": [],
   "source": [
    "# Functions\n",
    "\n",
    "def sigmoid(x, x0, k, a):\n",
    "    y = 1 / (1 + np.exp(-k*(x-x0))) * a \n",
    "    return y\n",
    "\n",
    "def sigmoid(x, c, b, a):\n",
    "    z = b*(x-c)\n",
    "    return a*np.where(z >= 0, 1 / (1 + np.exp(-z)), np.exp(z) / (1 + np.exp(z)))\n"
   ]
  },
  {
   "cell_type": "code",
   "execution_count": 4,
   "id": "critical-index",
   "metadata": {},
   "outputs": [
    {
     "name": "stdout",
     "output_type": "stream",
     "text": [
      "The pattern contains 1 capturing groups\n",
      "/home/users/marthgg/simulations/change_deformZ/crack_simulation_deformZ_1.061167/trajectory.bin\n",
      "/home/users/marthgg/simulations/change_deformZ/crack_simulation_deformZ_1.085274/trajectory.bin\n",
      "/home/users/marthgg/simulations/change_deformZ/crack_simulation_deformZ_1.023705/trajectory.bin\n",
      "/home/users/marthgg/simulations/change_deformZ/crack_simulation_deformZ_1.090160/trajectory.bin\n",
      "/home/users/marthgg/simulations/change_deformZ/crack_simulation_deformZ_1.019116/trajectory.bin\n",
      "/home/users/marthgg/simulations/change_deformZ/crack_simulation_deformZ_1.065945/trajectory.bin\n",
      "/home/users/marthgg/simulations/change_deformZ/crack_simulation_deformZ_1.032944/trajectory.bin\n",
      "/home/users/marthgg/simulations/change_deformZ/crack_simulation_deformZ_1.037596/trajectory.bin\n",
      "/home/users/marthgg/simulations/change_deformZ/crack_simulation_deformZ_1.051675/trajectory.bin\n",
      "/home/users/marthgg/simulations/change_deformZ/crack_simulation_deformZ_1.080409/trajectory.bin\n",
      "/home/users/marthgg/simulations/change_deformZ/crack_simulation_deformZ_1.014548/trajectory.bin\n",
      "/home/users/marthgg/simulations/change_deformZ/crack_simulation_deformZ_1.046961/trajectory.bin\n",
      "/home/users/marthgg/simulations/change_deformZ/crack_simulation_deformZ_1.075566/trajectory.bin\n",
      "/home/users/marthgg/simulations/change_deformZ/crack_simulation_deformZ_1.010000/trajectory.bin\n",
      "/home/users/marthgg/simulations/change_deformZ/crack_simulation_deformZ_1.056410/trajectory.bin\n",
      "/home/users/marthgg/simulations/change_deformZ/crack_simulation_deformZ_1.100000/trajectory.bin\n",
      "/home/users/marthgg/simulations/change_deformZ/crack_simulation_deformZ_1.095069/trajectory.bin\n",
      "/home/users/marthgg/simulations/change_deformZ/crack_simulation_deformZ_1.028314/trajectory.bin\n",
      "/home/users/marthgg/simulations/change_deformZ/crack_simulation_deformZ_1.070745/trajectory.bin\n",
      "/home/users/marthgg/simulations/change_deformZ/crack_simulation_deformZ_1.042268/trajectory.bin\n",
      "/home/users/marthgg/simulations/change_deformZ/crack_simulation_deformZ_1.061167/trajectory.bin\n"
     ]
    },
    {
     "name": "stderr",
     "output_type": "stream",
     "text": [
      "<ipython-input-2-3407bc67fafe>:9: RuntimeWarning: overflow encountered in exp\n",
      "  return a*np.where(z >= 0, 1 / (1 + np.exp(-z)), np.exp(z) / (1 + np.exp(z)))\n",
      "<ipython-input-2-3407bc67fafe>:9: RuntimeWarning: invalid value encountered in true_divide\n",
      "  return a*np.where(z >= 0, 1 / (1 + np.exp(-z)), np.exp(z) / (1 + np.exp(z)))\n"
     ]
    },
    {
     "name": "stdout",
     "output_type": "stream",
     "text": [
      "/home/users/marthgg/simulations/change_deformZ/crack_simulation_deformZ_1.085274/trajectory.bin\n"
     ]
    },
    {
     "name": "stderr",
     "output_type": "stream",
     "text": [
      "<ipython-input-2-3407bc67fafe>:9: RuntimeWarning: overflow encountered in exp\n",
      "  return a*np.where(z >= 0, 1 / (1 + np.exp(-z)), np.exp(z) / (1 + np.exp(z)))\n",
      "<ipython-input-2-3407bc67fafe>:9: RuntimeWarning: invalid value encountered in true_divide\n",
      "  return a*np.where(z >= 0, 1 / (1 + np.exp(-z)), np.exp(z) / (1 + np.exp(z)))\n"
     ]
    },
    {
     "name": "stdout",
     "output_type": "stream",
     "text": [
      "/home/users/marthgg/simulations/change_deformZ/crack_simulation_deformZ_1.023705/trajectory.bin\n",
      "/home/users/marthgg/simulations/change_deformZ/crack_simulation_deformZ_1.090160/trajectory.bin\n",
      "/home/users/marthgg/simulations/change_deformZ/crack_simulation_deformZ_1.019116/trajectory.bin\n",
      "/home/users/marthgg/simulations/change_deformZ/crack_simulation_deformZ_1.065945/trajectory.bin\n"
     ]
    },
    {
     "name": "stderr",
     "output_type": "stream",
     "text": [
      "<ipython-input-2-3407bc67fafe>:9: RuntimeWarning: overflow encountered in exp\n",
      "  return a*np.where(z >= 0, 1 / (1 + np.exp(-z)), np.exp(z) / (1 + np.exp(z)))\n",
      "<ipython-input-2-3407bc67fafe>:9: RuntimeWarning: invalid value encountered in true_divide\n",
      "  return a*np.where(z >= 0, 1 / (1 + np.exp(-z)), np.exp(z) / (1 + np.exp(z)))\n"
     ]
    },
    {
     "name": "stdout",
     "output_type": "stream",
     "text": [
      "/home/users/marthgg/simulations/change_deformZ/crack_simulation_deformZ_1.032944/trajectory.bin\n"
     ]
    },
    {
     "name": "stderr",
     "output_type": "stream",
     "text": [
      "<ipython-input-2-3407bc67fafe>:9: RuntimeWarning: overflow encountered in exp\n",
      "  return a*np.where(z >= 0, 1 / (1 + np.exp(-z)), np.exp(z) / (1 + np.exp(z)))\n",
      "<ipython-input-2-3407bc67fafe>:9: RuntimeWarning: invalid value encountered in true_divide\n",
      "  return a*np.where(z >= 0, 1 / (1 + np.exp(-z)), np.exp(z) / (1 + np.exp(z)))\n"
     ]
    },
    {
     "name": "stdout",
     "output_type": "stream",
     "text": [
      "Optimal parameters not found: Number of calls to function has reached maxfev = 800.\n",
      "Remove negative value\n",
      "Value out of area\n",
      "Value out of area\n",
      "Remove negative value\n",
      "Value out of area\n",
      "Value out of area\n",
      "/home/users/marthgg/simulations/change_deformZ/crack_simulation_deformZ_1.037596/trajectory.bin\n"
     ]
    },
    {
     "name": "stderr",
     "output_type": "stream",
     "text": [
      "<ipython-input-2-3407bc67fafe>:9: RuntimeWarning: overflow encountered in exp\n",
      "  return a*np.where(z >= 0, 1 / (1 + np.exp(-z)), np.exp(z) / (1 + np.exp(z)))\n",
      "<ipython-input-2-3407bc67fafe>:9: RuntimeWarning: invalid value encountered in true_divide\n",
      "  return a*np.where(z >= 0, 1 / (1 + np.exp(-z)), np.exp(z) / (1 + np.exp(z)))\n",
      "/home/users/marthgg/.pyenv/versions/md_analysis/lib/python3.8/site-packages/scipy/optimize/minpack.py:828: OptimizeWarning: Covariance of the parameters could not be estimated\n",
      "  warnings.warn('Covariance of the parameters could not be estimated',\n"
     ]
    },
    {
     "name": "stdout",
     "output_type": "stream",
     "text": [
      "Remove negative value\n",
      "Value out of area\n",
      "Optimal parameters not found: Number of calls to function has reached maxfev = 800.\n",
      "Remove negative value\n",
      "Value out of area\n",
      "/home/users/marthgg/simulations/change_deformZ/crack_simulation_deformZ_1.051675/trajectory.bin\n"
     ]
    },
    {
     "name": "stderr",
     "output_type": "stream",
     "text": [
      "<ipython-input-2-3407bc67fafe>:9: RuntimeWarning: overflow encountered in exp\n",
      "  return a*np.where(z >= 0, 1 / (1 + np.exp(-z)), np.exp(z) / (1 + np.exp(z)))\n",
      "<ipython-input-2-3407bc67fafe>:9: RuntimeWarning: invalid value encountered in true_divide\n",
      "  return a*np.where(z >= 0, 1 / (1 + np.exp(-z)), np.exp(z) / (1 + np.exp(z)))\n",
      "/home/users/marthgg/.pyenv/versions/md_analysis/lib/python3.8/site-packages/scipy/optimize/minpack.py:828: OptimizeWarning: Covariance of the parameters could not be estimated\n",
      "  warnings.warn('Covariance of the parameters could not be estimated',\n"
     ]
    },
    {
     "name": "stdout",
     "output_type": "stream",
     "text": [
      "/home/users/marthgg/simulations/change_deformZ/crack_simulation_deformZ_1.080409/trajectory.bin\n"
     ]
    },
    {
     "name": "stderr",
     "output_type": "stream",
     "text": [
      "<ipython-input-2-3407bc67fafe>:9: RuntimeWarning: overflow encountered in exp\n",
      "  return a*np.where(z >= 0, 1 / (1 + np.exp(-z)), np.exp(z) / (1 + np.exp(z)))\n",
      "<ipython-input-2-3407bc67fafe>:9: RuntimeWarning: invalid value encountered in true_divide\n",
      "  return a*np.where(z >= 0, 1 / (1 + np.exp(-z)), np.exp(z) / (1 + np.exp(z)))\n"
     ]
    },
    {
     "name": "stdout",
     "output_type": "stream",
     "text": [
      "/home/users/marthgg/simulations/change_deformZ/crack_simulation_deformZ_1.014548/trajectory.bin\n",
      "/home/users/marthgg/simulations/change_deformZ/crack_simulation_deformZ_1.046961/trajectory.bin\n"
     ]
    },
    {
     "name": "stderr",
     "output_type": "stream",
     "text": [
      "<ipython-input-2-3407bc67fafe>:9: RuntimeWarning: overflow encountered in exp\n",
      "  return a*np.where(z >= 0, 1 / (1 + np.exp(-z)), np.exp(z) / (1 + np.exp(z)))\n",
      "<ipython-input-2-3407bc67fafe>:9: RuntimeWarning: invalid value encountered in true_divide\n",
      "  return a*np.where(z >= 0, 1 / (1 + np.exp(-z)), np.exp(z) / (1 + np.exp(z)))\n",
      "/home/users/marthgg/.pyenv/versions/md_analysis/lib/python3.8/site-packages/scipy/optimize/minpack.py:828: OptimizeWarning: Covariance of the parameters could not be estimated\n",
      "  warnings.warn('Covariance of the parameters could not be estimated',\n"
     ]
    },
    {
     "name": "stdout",
     "output_type": "stream",
     "text": [
      "/home/users/marthgg/simulations/change_deformZ/crack_simulation_deformZ_1.075566/trajectory.bin\n"
     ]
    },
    {
     "name": "stderr",
     "output_type": "stream",
     "text": [
      "<ipython-input-2-3407bc67fafe>:9: RuntimeWarning: overflow encountered in exp\n",
      "  return a*np.where(z >= 0, 1 / (1 + np.exp(-z)), np.exp(z) / (1 + np.exp(z)))\n",
      "<ipython-input-2-3407bc67fafe>:9: RuntimeWarning: invalid value encountered in true_divide\n",
      "  return a*np.where(z >= 0, 1 / (1 + np.exp(-z)), np.exp(z) / (1 + np.exp(z)))\n"
     ]
    },
    {
     "name": "stdout",
     "output_type": "stream",
     "text": [
      "/home/users/marthgg/simulations/change_deformZ/crack_simulation_deformZ_1.010000/trajectory.bin\n",
      "/home/users/marthgg/simulations/change_deformZ/crack_simulation_deformZ_1.056410/trajectory.bin\n"
     ]
    },
    {
     "name": "stderr",
     "output_type": "stream",
     "text": [
      "<ipython-input-2-3407bc67fafe>:9: RuntimeWarning: overflow encountered in exp\n",
      "  return a*np.where(z >= 0, 1 / (1 + np.exp(-z)), np.exp(z) / (1 + np.exp(z)))\n"
     ]
    },
    {
     "name": "stdout",
     "output_type": "stream",
     "text": [
      "Optimal parameters not found: gtol=0.000000 is too small, func(x) is orthogonal to the columns of\n",
      "  the Jacobian to machine precision.\n",
      "Remove negative value\n",
      "Value out of area\n"
     ]
    },
    {
     "name": "stderr",
     "output_type": "stream",
     "text": [
      "<ipython-input-2-3407bc67fafe>:9: RuntimeWarning: invalid value encountered in true_divide\n",
      "  return a*np.where(z >= 0, 1 / (1 + np.exp(-z)), np.exp(z) / (1 + np.exp(z)))\n"
     ]
    },
    {
     "name": "stdout",
     "output_type": "stream",
     "text": [
      "/home/users/marthgg/simulations/change_deformZ/crack_simulation_deformZ_1.100000/trajectory.bin\n"
     ]
    },
    {
     "name": "stderr",
     "output_type": "stream",
     "text": [
      "<ipython-input-2-3407bc67fafe>:9: RuntimeWarning: overflow encountered in exp\n",
      "  return a*np.where(z >= 0, 1 / (1 + np.exp(-z)), np.exp(z) / (1 + np.exp(z)))\n",
      "<ipython-input-2-3407bc67fafe>:9: RuntimeWarning: invalid value encountered in true_divide\n",
      "  return a*np.where(z >= 0, 1 / (1 + np.exp(-z)), np.exp(z) / (1 + np.exp(z)))\n"
     ]
    },
    {
     "name": "stdout",
     "output_type": "stream",
     "text": [
      "/home/users/marthgg/simulations/change_deformZ/crack_simulation_deformZ_1.095069/trajectory.bin\n"
     ]
    },
    {
     "name": "stderr",
     "output_type": "stream",
     "text": [
      "<ipython-input-2-3407bc67fafe>:9: RuntimeWarning: overflow encountered in exp\n",
      "  return a*np.where(z >= 0, 1 / (1 + np.exp(-z)), np.exp(z) / (1 + np.exp(z)))\n",
      "<ipython-input-2-3407bc67fafe>:9: RuntimeWarning: invalid value encountered in true_divide\n",
      "  return a*np.where(z >= 0, 1 / (1 + np.exp(-z)), np.exp(z) / (1 + np.exp(z)))\n"
     ]
    },
    {
     "name": "stdout",
     "output_type": "stream",
     "text": [
      "/home/users/marthgg/simulations/change_deformZ/crack_simulation_deformZ_1.028314/trajectory.bin\n"
     ]
    },
    {
     "name": "stderr",
     "output_type": "stream",
     "text": [
      "<ipython-input-2-3407bc67fafe>:9: RuntimeWarning: overflow encountered in exp\n",
      "  return a*np.where(z >= 0, 1 / (1 + np.exp(-z)), np.exp(z) / (1 + np.exp(z)))\n"
     ]
    },
    {
     "name": "stdout",
     "output_type": "stream",
     "text": [
      "Optimal parameters not found: Number of calls to function has reached maxfev = 800.\n",
      "Remove negative value\n",
      "Value out of area\n",
      "/home/users/marthgg/simulations/change_deformZ/crack_simulation_deformZ_1.070745/trajectory.bin\n",
      "/home/users/marthgg/simulations/change_deformZ/crack_simulation_deformZ_1.042268/trajectory.bin\n"
     ]
    },
    {
     "name": "stderr",
     "output_type": "stream",
     "text": [
      "<ipython-input-2-3407bc67fafe>:9: RuntimeWarning: overflow encountered in exp\n",
      "  return a*np.where(z >= 0, 1 / (1 + np.exp(-z)), np.exp(z) / (1 + np.exp(z)))\n",
      "/home/users/marthgg/.pyenv/versions/md_analysis/lib/python3.8/site-packages/scipy/optimize/minpack.py:828: OptimizeWarning: Covariance of the parameters could not be estimated\n",
      "  warnings.warn('Covariance of the parameters could not be estimated',\n"
     ]
    },
    {
     "name": "stdout",
     "output_type": "stream",
     "text": [
      "Remove negative value\n",
      "Value out of area\n",
      "Remove negative value\n",
      "Value out of area\n"
     ]
    },
    {
     "name": "stderr",
     "output_type": "stream",
     "text": [
      "<ipython-input-2-3407bc67fafe>:9: RuntimeWarning: invalid value encountered in true_divide\n",
      "  return a*np.where(z >= 0, 1 / (1 + np.exp(-z)), np.exp(z) / (1 + np.exp(z)))\n"
     ]
    },
    {
     "data": {
      "image/png": "[encoded data removed]",
      "text/plain": [
       "<Figure size 432x288 with 1 Axes>"
      ]
     },
     "metadata": {
      "needs_background": "light"
     },
     "output_type": "display_data"
    },
    {
     "data": {
      "image/png": "[encoded data removed]",
      "text/plain": [
       "<Figure size 432x288 with 1 Axes>"
      ]
     },
     "metadata": {
      "needs_background": "light"
     },
     "output_type": "display_data"
    }
   ],
   "source": [
    "# Path to files\n",
    "\n",
    "path = '/home/users/marthgg/simulations/change_deformZ/'\n",
    "pattern = 'crack_simulation_'+floating_number_pattern('deformZ')+'/trajectory.bin'\n",
    "\n",
    "collection = Collector(path, pattern, fields=('deformZ'))\n",
    "simulations = collection.get_flat()\n",
    "\n",
    "counter = 0\n",
    "\n",
    "for deformZ, path in simulations.items():\n",
    "    #counter += 1\n",
    "    #if counter > 2:\n",
    "    #    break\n",
    "    file_name = path\n",
    "    print(file_name)\n",
    "    pipeline = import_file(file_name, multiple_frames=True)\n",
    "\n",
    "    position_crack_tip = []\n",
    "    frames = []\n",
    "\n",
    "    extra_zeros = np.zeros((20))\n",
    "\n",
    "    #inital guess\n",
    "    popt = [100]\n",
    "\n",
    "    for frame in range(7, pipeline.source.num_frames):\n",
    "        # Coordination analysis:\n",
    "        pipeline.modifiers.append(CoordinationAnalysisModifier(number_of_bins = 10, partial = True))\n",
    "\n",
    "        # Expression selection:\n",
    "        pipeline.modifiers.append(ExpressionSelectionModifier(expression = 'Coordination>=4 || ParticleType==2'))\n",
    "\n",
    "        # Delete selected:\n",
    "        pipeline.modifiers.append(DeleteSelectedModifier())\n",
    "\n",
    "        # Spatial binning:\n",
    "        pipeline.modifiers.append(SpatialBinningModifier(property = 'Coordination', reduction_operation = SpatialBinningModifier.Operation.Sum, direction = SpatialBinningModifier.Direction.X, bin_count = (95, 200, 200)))\n",
    "\n",
    "        data = pipeline.compute(frame)\n",
    "\n",
    "        table = data.tables['binning'].xy()\n",
    "\n",
    "        pos_x = table[:,0]\n",
    "        coord = table[:,1]\n",
    "\n",
    "        diff_pos = pos_x[1]-pos_x[0]\n",
    "\n",
    "        new_pos = []\n",
    "        for i in range (0, len(extra_zeros)):\n",
    "            new_pos.append(pos_x[-1]+diff_pos*i)\n",
    "\n",
    "        pos_x = np.insert(pos_x, len(pos_x), new_pos)\n",
    "        coord = np.insert(coord, len(coord), extra_zeros)\n",
    "\n",
    "        popt = [100]\n",
    "\n",
    "        try:\n",
    "            popt, pcov = curve_fit(sigmoid, pos_x, coord, p0=[popt[0], 0.001, (pos_x[0]+pos_x[-1])/2])\n",
    "        except RuntimeError as e: \n",
    "            print(e)\n",
    "            popt = [-1]\n",
    "        \n",
    "        #print(popt)\n",
    "        position_crack_tip.append(popt[0])\n",
    "        frames.append(frame)\n",
    "\n",
    "        if popt[0] < 0:\n",
    "            print('Remove negative value')\n",
    "            position_crack_tip.pop(-1)\n",
    "            frames.pop(-1)\n",
    "        \n",
    "        if (popt[0] > pos_x[-1]) or (popt[0]<position_crack_tip[0]-50):\n",
    "            print('Value out of area')\n",
    "            position_crack_tip.pop(-1)\n",
    "            frames.pop(-1)\n",
    "            \n",
    "        #sig_x = np.linspace(pos_x[0], pos_x[-1], len(pos_x))\n",
    "        #sig_y = sigmoid(sig_x, *popt)\n",
    "\n",
    "        #plt.figure()\n",
    "        #plt.plot(pos_x, coord, label='data')\n",
    "        #plt.plot(sig_x, sig_y, label='fit')\n",
    "        #plt.legend()\n",
    "        #plt.show()\n",
    "\n",
    "        # Plot crack tip position with frame\n",
    "        #velocity = []\n",
    "        #for i in range(0, len(frames)):\n",
    "        #    velocity.append(position_crack_tip[i]/frames[i])\n",
    "    \n",
    "    plt.figure(1)\n",
    "    plt.plot(frames, position_crack_tip, color=get_color_value(float(deformZ), 1.010000, 1.100000))#, label=deformZ)\n",
    "    plt.xlabel('Frames')\n",
    "    plt.ylabel('Position x')\n",
    "    plt.ylim([0, 1000])\n",
    "    #plt.legend()\n",
    "    #plt.show()\n",
    "        \n",
    "    # Find velocity\n",
    "    velocity = np.diff(position_crack_tip)/np.diff(frames)\n",
    "    \n",
    "    plt.figure(2)\n",
    "    plt.plot(frames[:-1], velocity, color=get_color_value(float(deformZ), 1.010000, 1.100000))#, label=deformZ)\n",
    "    plt.xlabel('Frame')\n",
    "    plt.ylabel('Velocity (Å/ps)')\n",
    "    plt.ylim([0, 300])\n",
    "    #plt.legend()\n",
    "    #plt.show()\n",
    "    \n",
    "    \n",
    "\n"
   ]
  },
  {
   "cell_type": "code",
   "execution_count": 6,
   "id": "fifth-stationery",
   "metadata": {},
   "outputs": [
    {
     "name": "stdout",
     "output_type": "stream",
     "text": [
      "/home/users/marthgg/simulations/change_deformZ/crack_simulation_deformZ_1.075566/trajectory.bin\n"
     ]
    },
    {
     "name": "stderr",
     "output_type": "stream",
     "text": [
      "<ipython-input-2-3407bc67fafe>:9: RuntimeWarning: overflow encountered in exp\n",
      "  return a*np.where(z >= 0, 1 / (1 + np.exp(-z)), np.exp(z) / (1 + np.exp(z)))\n",
      "<ipython-input-2-3407bc67fafe>:9: RuntimeWarning: invalid value encountered in true_divide\n",
      "  return a*np.where(z >= 0, 1 / (1 + np.exp(-z)), np.exp(z) / (1 + np.exp(z)))\n",
      "No handles with labels found to put in legend.\n"
     ]
    },
    {
     "data": {
      "image/png": "[encoded data removed]",
      "text/plain": [
       "<Figure size 432x288 with 1 Axes>"
      ]
     },
     "metadata": {
      "needs_background": "light"
     },
     "output_type": "display_data"
    },
    {
     "name": "stderr",
     "output_type": "stream",
     "text": [
      "No handles with labels found to put in legend.\n"
     ]
    },
    {
     "data": {
      "image/png": "[encoded data removed]",
      "text/plain": [
       "<Figure size 432x288 with 1 Axes>"
      ]
     },
     "metadata": {
      "needs_background": "light"
     },
     "output_type": "display_data"
    },
    {
     "name": "stderr",
     "output_type": "stream",
     "text": [
      "<ipython-input-2-3407bc67fafe>:9: RuntimeWarning: overflow encountered in exp\n",
      "  return a*np.where(z >= 0, 1 / (1 + np.exp(-z)), np.exp(z) / (1 + np.exp(z)))\n"
     ]
    },
    {
     "name": "stdout",
     "output_type": "stream",
     "text": [
      "/home/users/marthgg/simulations/change_deformZ/crack_simulation_deformZ_1.032944/trajectory.bin\n"
     ]
    },
    {
     "name": "stderr",
     "output_type": "stream",
     "text": [
      "<ipython-input-2-3407bc67fafe>:9: RuntimeWarning: invalid value encountered in true_divide\n",
      "  return a*np.where(z >= 0, 1 / (1 + np.exp(-z)), np.exp(z) / (1 + np.exp(z)))\n"
     ]
    },
    {
     "name": "stdout",
     "output_type": "stream",
     "text": [
      "Optimal parameters not found: Number of calls to function has reached maxfev = 800.\n",
      "Remove negative value\n",
      "Value out of area\n",
      "Value out of area\n",
      "Remove negative value\n",
      "Value out of area\n",
      "Value out of area\n"
     ]
    },
    {
     "name": "stderr",
     "output_type": "stream",
     "text": [
      "No handles with labels found to put in legend.\n"
     ]
    },
    {
     "data": {
      "image/png": "[encoded data removed]",
      "text/plain": [
       "<Figure size 432x288 with 1 Axes>"
      ]
     },
     "metadata": {
      "needs_background": "light"
     },
     "output_type": "display_data"
    },
    {
     "name": "stderr",
     "output_type": "stream",
     "text": [
      "No handles with labels found to put in legend.\n"
     ]
    },
    {
     "data": {
      "image/png": "[encoded data removed]",
      "text/plain": [
       "<Figure size 432x288 with 1 Axes>"
      ]
     },
     "metadata": {
      "needs_background": "light"
     },
     "output_type": "display_data"
    }
   ],
   "source": [
    "# Single data file\n",
    "# Import data and loop through all frames\n",
    "\n",
    "# Fast\n",
    "file_name1 = '/home/users/marthgg/simulations/change_deformZ/crack_simulation_deformZ_1.075566/trajectory.bin'\n",
    "\n",
    "# Slow\n",
    "file_name2 = '/home/users/marthgg/simulations/change_deformZ/crack_simulation_deformZ_1.032944/trajectory.bin'\n",
    "\n",
    "files = [file_name1, file_name2]\n",
    "\n",
    "for file in files:\n",
    "    print(file)\n",
    "    \n",
    "    pipeline = import_file(file, multiple_frames=True)\n",
    "\n",
    "    position_crack_tip = []\n",
    "    frames = []\n",
    "\n",
    "    extra_zeros = np.zeros((20))\n",
    "\n",
    "    #inital guess\n",
    "    popt = [100]\n",
    "\n",
    "    for frame in range(7, pipeline.source.num_frames):\n",
    "        # Coordination analysis:\n",
    "        pipeline.modifiers.append(CoordinationAnalysisModifier(number_of_bins = 10, partial = True))\n",
    "\n",
    "        # Expression selection:\n",
    "        pipeline.modifiers.append(ExpressionSelectionModifier(expression = 'Coordination>=4 || ParticleType==2'))\n",
    "\n",
    "        # Delete selected:\n",
    "        pipeline.modifiers.append(DeleteSelectedModifier())\n",
    "\n",
    "        # Spatial binning:\n",
    "        pipeline.modifiers.append(SpatialBinningModifier(property = 'Coordination', reduction_operation = SpatialBinningModifier.Operation.Sum, direction = SpatialBinningModifier.Direction.X, bin_count = (95, 200, 200)))\n",
    "\n",
    "        data = pipeline.compute(frame)\n",
    "\n",
    "        table = data.tables['binning'].xy()\n",
    "\n",
    "        pos_x = table[:,0]\n",
    "        coord = table[:,1]\n",
    "\n",
    "        diff_pos = pos_x[1]-pos_x[0]\n",
    "\n",
    "        new_pos = []\n",
    "        for i in range (0, len(extra_zeros)):\n",
    "            new_pos.append(pos_x[-1]+diff_pos*i)\n",
    "\n",
    "        pos_x = np.insert(pos_x, len(pos_x), new_pos)\n",
    "        coord = np.insert(coord, len(coord), extra_zeros)\n",
    "\n",
    "        popt = [100]\n",
    "\n",
    "        try:\n",
    "            popt, pcov = curve_fit(sigmoid, pos_x, coord, p0=[popt[0], 0.001, (pos_x[0]+pos_x[-1])/2])\n",
    "        except RuntimeError as e: \n",
    "            print(e)\n",
    "            popt = [-1]\n",
    "\n",
    "        #print(popt)\n",
    "        position_crack_tip.append(popt[0])\n",
    "        frames.append(frame)\n",
    "\n",
    "        if popt[0] < 0:\n",
    "            print('Remove negative value')\n",
    "            position_crack_tip.pop(-1)\n",
    "            frames.pop(-1)\n",
    "\n",
    "        if (popt[0] > pos_x[-1]) or (popt[0] < position_crack_tip[0]-50):\n",
    "            print('Value out of area')\n",
    "            position_crack_tip.pop(-1)\n",
    "            frames.pop(-1)\n",
    "\n",
    "        #sig_x = np.linspace(pos_x[0], pos_x[-1], len(pos_x))\n",
    "        #sig_y = sigmoid(sig_x, *popt)\n",
    "\n",
    "        #plt.figure()\n",
    "        #plt.plot(pos_x, coord, label='data')\n",
    "        #plt.plot(sig_x, sig_y, label='fit')\n",
    "        #plt.legend()\n",
    "        #plt.show()\n",
    "\n",
    "\n",
    "    plt.figure()\n",
    "    plt.plot(frames, position_crack_tip)\n",
    "    plt.xlabel('Frames')\n",
    "    plt.ylabel('Position x')\n",
    "    plt.ylim([0, 1000])\n",
    "    plt.legend()\n",
    "    plt.show()\n",
    "        \n",
    "    # Find velocity\n",
    "    velocity = np.diff(position_crack_tip)/np.diff(frames)\n",
    "    \n",
    "    plt.figure()\n",
    "    plt.plot(frames[:-1], velocity)\n",
    "    plt.xlabel('Frame')\n",
    "    plt.ylabel('Velocity (Å/ps)')\n",
    "    plt.legend()\n",
    "    plt.show()\n"
   ]
  },
  {
   "cell_type": "code",
   "execution_count": 10,
   "id": "respected-cattle",
   "metadata": {},
   "outputs": [
    {
     "name": "stdout",
     "output_type": "stream",
     "text": [
      "[ 4.47903602e-01  3.41236540e+00  4.71281480e+00  1.77721451e+01\n",
      "  1.04063603e+01  2.75833244e+01  2.13381385e+01  2.83129283e+01\n",
      "  3.45735522e+01  2.92249266e+01  3.89514941e+01  4.11214672e+01\n",
      "  3.74973670e+01  3.51047929e+01  4.12407408e+01  2.59149032e+01\n",
      "  3.14038021e+01  2.79822327e+01  2.11682875e+01  2.93665865e+01\n",
      "  2.20051754e+01 -2.03201342e-01  8.75550144e-02 -4.65297032e-01\n",
      "  4.10625217e-01  2.62440571e-01  2.68488413e+00 -2.76572087e+00\n",
      "  3.58689384e-03 -7.81410812e-02 -2.48058147e-01  5.46638751e-01\n",
      " -2.27824020e-01  1.21008919e-01  1.91346081e+00 -2.23478571e+00\n",
      "  2.94892983e-01 -4.51093601e-01  4.10177191e-01 -1.31798609e-01\n",
      "  6.20222685e-03  8.02499034e-01 -6.07041751e-01]\n"
     ]
    },
    {
     "data": {
      "text/plain": [
       "Text(0, 0.5, 'Velocity (Å/ps)')"
      ]
     },
     "execution_count": 10,
     "metadata": {},
     "output_type": "execute_result"
    },
    {
     "data": {
      "image/png": "[encoded data removed]",
      "text/plain": [
       "<Figure size 432x288 with 1 Axes>"
      ]
     },
     "metadata": {
      "needs_background": "light"
     },
     "output_type": "display_data"
    }
   ],
   "source": [
    "# Plot crack tip position with frame\n",
    "\n",
    "from numpy import diff\n",
    "\n",
    "velocity = diff(position_crack_tip)/diff(frames)\n",
    "\n",
    "plt.figure(1)\n",
    "plt.plot(frames[:-1], velocity)\n",
    "plt.xlabel('Frames')\n",
    "plt.ylabel('Velocity (Å/ps)')"
   ]
  },
  {
   "cell_type": "code",
   "execution_count": null,
   "id": "residential-miracle",
   "metadata": {},
   "outputs": [],
   "source": []
  },
  {
   "cell_type": "markdown",
   "id": "affecting-format",
   "metadata": {},
   "source": [
    "**System twice as long**"
   ]
  },
  {
   "cell_type": "code",
   "execution_count": 3,
   "id": "instrumental-grocery",
   "metadata": {},
   "outputs": [
    {
     "name": "stdout",
     "output_type": "stream",
     "text": [
      "The pattern contains 1 capturing groups\n",
      "/home/users/marthgg/simulations/x2000/vary_deformZ/crack_simulation_deformZ_1.047586/trajectory.bin\n",
      "/home/users/marthgg/simulations/x2000/vary_deformZ/crack_simulation_deformZ_1.080000/trajectory.bin\n",
      "/home/users/marthgg/simulations/x2000/vary_deformZ/crack_simulation_deformZ_1.061870/trajectory.bin\n",
      "/home/users/marthgg/simulations/x2000/vary_deformZ/crack_simulation_deformZ_1.076349/trajectory.bin\n",
      "/home/users/marthgg/simulations/x2000/vary_deformZ/crack_simulation_deformZ_1.069085/trajectory.bin\n",
      "/home/users/marthgg/simulations/x2000/vary_deformZ/crack_simulation_deformZ_1.040516/trajectory.bin\n",
      "/home/users/marthgg/simulations/x2000/vary_deformZ/crack_simulation_deformZ_1.065472/trajectory.bin\n",
      "/home/users/marthgg/simulations/x2000/vary_deformZ/crack_simulation_deformZ_1.054704/trajectory.bin\n",
      "/home/users/marthgg/simulations/x2000/vary_deformZ/crack_simulation_deformZ_1.030000/trajectory.bin\n",
      "/home/users/marthgg/simulations/x2000/vary_deformZ/crack_simulation_deformZ_1.051139/trajectory.bin\n",
      "/home/users/marthgg/simulations/x2000/vary_deformZ/crack_simulation_deformZ_1.036999/trajectory.bin\n",
      "/home/users/marthgg/simulations/x2000/vary_deformZ/crack_simulation_deformZ_1.058281/trajectory.bin\n",
      "/home/users/marthgg/simulations/x2000/vary_deformZ/crack_simulation_deformZ_1.033493/trajectory.bin\n",
      "/home/users/marthgg/simulations/x2000/vary_deformZ/crack_simulation_deformZ_1.072711/trajectory.bin\n",
      "/home/users/marthgg/simulations/x2000/vary_deformZ/crack_simulation_deformZ_1.044045/trajectory.bin\n",
      "/home/users/marthgg/simulations/x2000/vary_deformZ/crack_simulation_deformZ_1.047586/trajectory.bin\n"
     ]
    },
    {
     "name": "stderr",
     "output_type": "stream",
     "text": [
      "<ipython-input-2-3407bc67fafe>:9: RuntimeWarning: overflow encountered in exp\n",
      "  return a*np.where(z >= 0, 1 / (1 + np.exp(-z)), np.exp(z) / (1 + np.exp(z)))\n",
      "<ipython-input-2-3407bc67fafe>:9: RuntimeWarning: invalid value encountered in true_divide\n",
      "  return a*np.where(z >= 0, 1 / (1 + np.exp(-z)), np.exp(z) / (1 + np.exp(z)))\n"
     ]
    },
    {
     "name": "stdout",
     "output_type": "stream",
     "text": [
      "Remove negative value\n",
      "Value out of area\n",
      "Remove negative value\n",
      "Value out of area\n"
     ]
    },
    {
     "name": "stderr",
     "output_type": "stream",
     "text": [
      "/home/users/marthgg/.pyenv/versions/md_analysis/lib/python3.8/site-packages/scipy/optimize/minpack.py:828: OptimizeWarning: Covariance of the parameters could not be estimated\n",
      "  warnings.warn('Covariance of the parameters could not be estimated',\n"
     ]
    },
    {
     "name": "stdout",
     "output_type": "stream",
     "text": [
      "Remove negative value\n",
      "Value out of area\n",
      "Optimal parameters not found: gtol=0.000000 is too small, func(x) is orthogonal to the columns of\n",
      "  the Jacobian to machine precision.\n",
      "Remove negative value\n",
      "Value out of area\n",
      "Remove negative value\n",
      "Value out of area\n"
     ]
    },
    {
     "ename": "KeyboardInterrupt",
     "evalue": "Operation has been canceled by the user.",
     "output_type": "error",
     "traceback": [
      "\u001b[0;31m---------------------------------------------------------------------------\u001b[0m",
      "\u001b[0;31mKeyboardInterrupt\u001b[0m                         Traceback (most recent call last)",
      "\u001b[0;32m<ipython-input-3-7745702105c0>\u001b[0m in \u001b[0;36m<module>\u001b[0;34m\u001b[0m\n\u001b[1;32m     38\u001b[0m         \u001b[0mpipeline\u001b[0m\u001b[0;34m.\u001b[0m\u001b[0mmodifiers\u001b[0m\u001b[0;34m.\u001b[0m\u001b[0mappend\u001b[0m\u001b[0;34m(\u001b[0m\u001b[0mSpatialBinningModifier\u001b[0m\u001b[0;34m(\u001b[0m\u001b[0mproperty\u001b[0m \u001b[0;34m=\u001b[0m \u001b[0;34m'Coordination'\u001b[0m\u001b[0;34m,\u001b[0m \u001b[0mreduction_operation\u001b[0m \u001b[0;34m=\u001b[0m \u001b[0mSpatialBinningModifier\u001b[0m\u001b[0;34m.\u001b[0m\u001b[0mOperation\u001b[0m\u001b[0;34m.\u001b[0m\u001b[0mSum\u001b[0m\u001b[0;34m,\u001b[0m \u001b[0mdirection\u001b[0m \u001b[0;34m=\u001b[0m \u001b[0mSpatialBinningModifier\u001b[0m\u001b[0;34m.\u001b[0m\u001b[0mDirection\u001b[0m\u001b[0;34m.\u001b[0m\u001b[0mX\u001b[0m\u001b[0;34m,\u001b[0m \u001b[0mbin_count\u001b[0m \u001b[0;34m=\u001b[0m \u001b[0;34m(\u001b[0m\u001b[0;36m95\u001b[0m\u001b[0;34m,\u001b[0m \u001b[0;36m200\u001b[0m\u001b[0;34m,\u001b[0m \u001b[0;36m200\u001b[0m\u001b[0;34m)\u001b[0m\u001b[0;34m)\u001b[0m\u001b[0;34m)\u001b[0m\u001b[0;34m\u001b[0m\u001b[0;34m\u001b[0m\u001b[0m\n\u001b[1;32m     39\u001b[0m \u001b[0;34m\u001b[0m\u001b[0m\n\u001b[0;32m---> 40\u001b[0;31m         \u001b[0mdata\u001b[0m \u001b[0;34m=\u001b[0m \u001b[0mpipeline\u001b[0m\u001b[0;34m.\u001b[0m\u001b[0mcompute\u001b[0m\u001b[0;34m(\u001b[0m\u001b[0mframe\u001b[0m\u001b[0;34m)\u001b[0m\u001b[0;34m\u001b[0m\u001b[0;34m\u001b[0m\u001b[0m\n\u001b[0m\u001b[1;32m     41\u001b[0m \u001b[0;34m\u001b[0m\u001b[0m\n\u001b[1;32m     42\u001b[0m         \u001b[0mtable\u001b[0m \u001b[0;34m=\u001b[0m \u001b[0mdata\u001b[0m\u001b[0;34m.\u001b[0m\u001b[0mtables\u001b[0m\u001b[0;34m[\u001b[0m\u001b[0;34m'binning'\u001b[0m\u001b[0;34m]\u001b[0m\u001b[0;34m.\u001b[0m\u001b[0mxy\u001b[0m\u001b[0;34m(\u001b[0m\u001b[0;34m)\u001b[0m\u001b[0;34m\u001b[0m\u001b[0;34m\u001b[0m\u001b[0m\n",
      "\u001b[0;32m~/.pyenv/versions/md_analysis/lib/python3.8/site-packages/ovito/pipeline/pipeline_class.py\u001b[0m in \u001b[0;36m_Pipeline_compute\u001b[0;34m(self, frame)\u001b[0m\n\u001b[1;32m    185\u001b[0m         \u001b[0mtime\u001b[0m \u001b[0;34m=\u001b[0m \u001b[0mself\u001b[0m\u001b[0;34m.\u001b[0m\u001b[0mdataset\u001b[0m\u001b[0;34m.\u001b[0m\u001b[0manim\u001b[0m\u001b[0;34m.\u001b[0m\u001b[0mtime\u001b[0m\u001b[0;34m\u001b[0m\u001b[0;34m\u001b[0m\u001b[0m\n\u001b[1;32m    186\u001b[0m \u001b[0;34m\u001b[0m\u001b[0m\n\u001b[0;32m--> 187\u001b[0;31m     \u001b[0mstate\u001b[0m \u001b[0;34m=\u001b[0m \u001b[0mself\u001b[0m\u001b[0;34m.\u001b[0m\u001b[0mevaluate_pipeline\u001b[0m\u001b[0;34m(\u001b[0m\u001b[0mtime\u001b[0m\u001b[0;34m)\u001b[0m\u001b[0;34m\u001b[0m\u001b[0;34m\u001b[0m\u001b[0m\n\u001b[0m\u001b[1;32m    188\u001b[0m     \u001b[0;32mif\u001b[0m \u001b[0mstate\u001b[0m\u001b[0;34m.\u001b[0m\u001b[0mstatus\u001b[0m\u001b[0;34m.\u001b[0m\u001b[0mtype\u001b[0m \u001b[0;34m==\u001b[0m \u001b[0mPipelineStatus\u001b[0m\u001b[0;34m.\u001b[0m\u001b[0mType\u001b[0m\u001b[0;34m.\u001b[0m\u001b[0mError\u001b[0m\u001b[0;34m:\u001b[0m\u001b[0;34m\u001b[0m\u001b[0;34m\u001b[0m\u001b[0m\n\u001b[1;32m    189\u001b[0m         \u001b[0;32mraise\u001b[0m \u001b[0mRuntimeError\u001b[0m\u001b[0;34m(\u001b[0m\u001b[0;34m\"Data pipeline failure: %s\"\u001b[0m \u001b[0;34m%\u001b[0m \u001b[0mstate\u001b[0m\u001b[0;34m.\u001b[0m\u001b[0mstatus\u001b[0m\u001b[0;34m.\u001b[0m\u001b[0mtext\u001b[0m\u001b[0;34m)\u001b[0m\u001b[0;34m\u001b[0m\u001b[0;34m\u001b[0m\u001b[0m\n",
      "\u001b[0;31mKeyboardInterrupt\u001b[0m: Operation has been canceled by the user."
     ]
    }
   ],
   "source": [
    "# Path to files\n",
    "\n",
    "path = '/home/users/marthgg/simulations/x2000/vary_deformZ/'\n",
    "pattern = 'crack_simulation_'+floating_number_pattern('deformZ')+'/trajectory.bin'\n",
    "\n",
    "collection = Collector(path, pattern, fields=('deformZ'))\n",
    "simulations = collection.get_flat()\n",
    "\n",
    "counter = 0\n",
    "\n",
    "for deformZ, path in simulations.items():\n",
    "    #counter += 1\n",
    "    #if counter > 2:\n",
    "    #    break\n",
    "    file_name = path\n",
    "    print(file_name)\n",
    "    pipeline = import_file(file_name, multiple_frames=True)\n",
    "\n",
    "    position_crack_tip = []\n",
    "    frames = []\n",
    "\n",
    "    extra_zeros = np.zeros((20))\n",
    "\n",
    "    #inital guess\n",
    "    popt = [100]\n",
    "\n",
    "    for frame in range(7, pipeline.source.num_frames):\n",
    "        # Coordination analysis:\n",
    "        pipeline.modifiers.append(CoordinationAnalysisModifier(number_of_bins = 10, partial = True))\n",
    "\n",
    "        # Expression selection:\n",
    "        pipeline.modifiers.append(ExpressionSelectionModifier(expression = 'Coordination>=4 || ParticleType==2'))\n",
    "\n",
    "        # Delete selected:\n",
    "        pipeline.modifiers.append(DeleteSelectedModifier())\n",
    "\n",
    "        # Spatial binning:\n",
    "        pipeline.modifiers.append(SpatialBinningModifier(property = 'Coordination', reduction_operation = SpatialBinningModifier.Operation.Sum, direction = SpatialBinningModifier.Direction.X, bin_count = (95, 200, 200)))\n",
    "\n",
    "        data = pipeline.compute(frame)\n",
    "\n",
    "        table = data.tables['binning'].xy()\n",
    "\n",
    "        pos_x = table[:,0]\n",
    "        coord = table[:,1]\n",
    "\n",
    "        diff_pos = pos_x[1]-pos_x[0]\n",
    "\n",
    "        new_pos = []\n",
    "        for i in range (0, len(extra_zeros)):\n",
    "            new_pos.append(pos_x[-1]+diff_pos*i)\n",
    "\n",
    "        pos_x = np.insert(pos_x, len(pos_x), new_pos)\n",
    "        coord = np.insert(coord, len(coord), extra_zeros)\n",
    "\n",
    "        popt = [100]\n",
    "\n",
    "        try:\n",
    "            popt, pcov = curve_fit(sigmoid, pos_x, coord, p0=[popt[0], 0.001, (pos_x[0]+pos_x[-1])/2])\n",
    "        except RuntimeError as e: \n",
    "            print(e)\n",
    "            popt = [-1]\n",
    "        \n",
    "        #print(popt)\n",
    "        position_crack_tip.append(popt[0])\n",
    "        frames.append(frame)\n",
    "\n",
    "        if popt[0] < 0:\n",
    "            print('Remove negative value')\n",
    "            position_crack_tip.pop(-1)\n",
    "            frames.pop(-1)\n",
    "        \n",
    "        if (popt[0] > pos_x[-1]) or (popt[0]<position_crack_tip[0]-50):\n",
    "            print('Value out of area')\n",
    "            position_crack_tip.pop(-1)\n",
    "            frames.pop(-1)\n",
    "            \n",
    "        #sig_x = np.linspace(pos_x[0], pos_x[-1], len(pos_x))\n",
    "        #sig_y = sigmoid(sig_x, *popt)\n",
    "\n",
    "        #plt.figure()\n",
    "        #plt.plot(pos_x, coord, label='data')\n",
    "        #plt.plot(sig_x, sig_y, label='fit')\n",
    "        #plt.legend()\n",
    "        #plt.show()\n",
    "\n",
    "        # Plot crack tip position with frame\n",
    "        #velocity = []\n",
    "        #for i in range(0, len(frames)):\n",
    "        #    velocity.append(position_crack_tip[i]/frames[i])\n",
    "    \n",
    "    plt.figure(1)\n",
    "    plt.plot(frames, position_crack_tip, color=get_color_value(float(deformZ), 1.010000, 1.100000))#, label=deformZ)\n",
    "    plt.xlabel('Frames')\n",
    "    plt.ylabel('Position x')\n",
    "    plt.ylim([0, 1000])\n",
    "    #plt.legend()\n",
    "    #plt.show()\n",
    "        \n",
    "    # Find velocity\n",
    "    velocity = np.diff(position_crack_tip)/np.diff(frames)\n",
    "    \n",
    "    plt.figure(2)\n",
    "    plt.plot(frames[:-1], velocity, color=get_color_value(float(deformZ), 1.010000, 1.100000))#, label=deformZ)\n",
    "    plt.xlabel('Frame')\n",
    "    plt.ylabel('Velocity (Å/ps)')\n",
    "    plt.ylim([0, 300])\n",
    "    #plt.legend()\n",
    "    #plt.show()"
   ]
  },
  {
   "cell_type": "code",
   "execution_count": null,
   "id": "funded-conspiracy",
   "metadata": {},
   "outputs": [],
   "source": []
  }
 ],
 "metadata": {
  "kernelspec": {
   "display_name": "MD Analysis",
   "language": "python",
   "name": "md_analysis"
  },
  "language_info": {
   "codemirror_mode": {
    "name": "ipython",
    "version": 3
   },
   "file_extension": ".py",
   "mimetype": "text/x-python",
   "name": "python",
   "nbconvert_exporter": "python",
   "pygments_lexer": "ipython3",
   "version": "3.8.5"
  }
 },
 "nbformat": 4,
 "nbformat_minor": 5
}
