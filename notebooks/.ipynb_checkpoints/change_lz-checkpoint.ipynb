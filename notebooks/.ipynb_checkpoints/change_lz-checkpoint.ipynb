{
 "cells": [
  {
   "cell_type": "markdown",
   "id": "0794bdb4-a4bf-4391-8fe1-692b6a7d44bc",
   "metadata": {},
   "source": [
    "**Check effect of lz**"
   ]
  },
  {
   "cell_type": "code",
   "execution_count": 18,
   "id": "7f81548c-c3ef-42c1-a5de-c4fd8884cbcb",
   "metadata": {},
   "outputs": [],
   "source": [
    "import numpy as np\n",
    "import matplotlib.pyplot as plt\n",
    "import os\n",
    "\n",
    "# Packages form Henriks Github\n",
    "from lammps_logfile import running_mean, get_color_value\n",
    "from regex_file_collector import Collector\n",
    "from regex_file_collector.utils import floating_number_pattern\n",
    "import lammps_logfile"
   ]
  },
  {
   "cell_type": "code",
   "execution_count": 19,
   "id": "866ffae8-8e19-4d7c-8c8e-6ebc85547e62",
   "metadata": {},
   "outputs": [],
   "source": [
    "def save_figure(output_file_name):\n",
    "    plt.savefig(output_file_name, dpi=None, facecolor='w', edgecolor='w', orientation='portrait')"
   ]
  },
  {
   "cell_type": "code",
   "execution_count": 20,
   "id": "a1c82270-208a-4c5d-a596-f990aaa558ac",
   "metadata": {},
   "outputs": [],
   "source": [
    "paths = ['/home/users/marthgg/2021_08_quartz_simulations_x3000_z1200/crack_simulation_deformZ_1.030000/fracture_displacement.npy',\n",
    "         '/home/users/marthgg/2021_08_quartz_simulations/crack_simulation_deformZ_1.030000/fracture_displacement.npy',\n",
    "         '/home/users/marthgg/2021_05_simulations_quartz_relaxed_structure/x3000_y200/crack_simulation_deformZ_1.037285/fracture_displacement.npy',\n",
    "         '/home/users/marthgg/2021_08_quartz_simulations/crack_simulation_deformZ_1.038000/fracture_displacement.npy',\n",
    "         '/home/users/marthgg/2021_11_thin_sample/crack_simulation_deformZ_1.100000/fracture_displacement.npy']\n",
    "\n",
    "logfile_folders = ['/home/users/marthgg/2021_08_quartz_simulations_x3000_z1200/crack_simulation_deformZ_1.030000/log.lammps',\n",
    "                   '/home/users/marthgg/2021_08_quartz_simulations/crack_simulation_deformZ_1.030000/log.lammps',\n",
    "                   '/home/users/marthgg/2021_05_simulations_quartz_relaxed_structure/x3000_y200/crack_simulation_deformZ_1.037285/log.lammps',\n",
    "                   '/home/users/marthgg/2021_08_quartz_simulations/crack_simulation_deformZ_1.038000/log.lammps',\n",
    "                   '/home/users/marthgg/2021_11_thin_sample/crack_simulation_deformZ_1.2100000/log.lammps']\n",
    "\n",
    "lz = [1200, 600, 200, 600, 100]"
   ]
  },
  {
   "cell_type": "code",
   "execution_count": 22,
   "id": "61a6f830-38d2-4b91-875c-68813afb1bca",
   "metadata": {},
   "outputs": [
    {
     "name": "stdout",
     "output_type": "stream",
     "text": [
      "784.4738874259826\n",
      "/home/users/marthgg/2021_08_quartz_simulations/crack_simulation_deformZ_1.030000/fracture_displacement.npy\n",
      "43\n",
      "217.2044350657547\n",
      "/home/users/marthgg/2021_08_quartz_simulations/crack_simulation_deformZ_1.038000/fracture_displacement.npy\n",
      "26\n",
      "/home/users/marthgg/2021_11_thin_sample/crack_simulation_deformZ_1.200000/fracture_displacement.npy\n",
      "19\n",
      "1070.0905464439331\n"
     ]
    },
    {
     "data": {
      "image/png": "[encoded data removed]",
      "text/plain": [
       "<Figure size 432x288 with 1 Axes>"
      ]
     },
     "metadata": {
      "needs_background": "light"
     },
     "output_type": "display_data"
    }
   ],
   "source": [
    "system_length = 3000\n",
    "crack_start_point = 150\n",
    "\n",
    "k = 0\n",
    "\n",
    "for path in paths:\n",
    "        \n",
    "    filename = path\n",
    "\n",
    "    data = np.load(filename, allow_pickle=False)\n",
    "    frames = list(range(0, len(data)))\n",
    "\n",
    "    filtered_data_crackTip = []\n",
    "    filtered_data_frames   = []\n",
    "\n",
    "    for i in range(0, len(data)):\n",
    "        if data[i] > crack_start_point and data[i] < system_length:\n",
    "            filtered_data_crackTip.append(data[i])\n",
    "            filtered_data_frames.append(frames[i])            \n",
    "    \n",
    "    for i in range(0, len(filtered_data_frames)):\n",
    "        if filtered_data_crackTip[i] > 2910:\n",
    "            print(filename)\n",
    "            print(filtered_data_frames[i])\n",
    "            break\n",
    "\n",
    "    # Find velocity\n",
    "    timestep = 0.001 # ps\n",
    "    dump_frequency = 10000\n",
    "\n",
    "    time_s = []\n",
    "    time = []\n",
    "    for i in range(0, len(filtered_data_frames)):\n",
    "        time.append(filtered_data_frames[i]*timestep*dump_frequency) #Time in ps\n",
    "        if filtered_data_crackTip[i] < 2910:\n",
    "            time_s.append(filtered_data_frames[i]*timestep*dump_frequency*(10**-12)) #time in s\n",
    "\n",
    "    position_m = []\n",
    "    for i in range(0, len(filtered_data_crackTip)):\n",
    "        if filtered_data_crackTip[i] < 2910:\n",
    "            position_m.append(filtered_data_crackTip[i]*(10**-10)) #distance in m\n",
    "\n",
    "    velocity = np.diff(position_m)/np.diff(time_s)\n",
    "    mean_velocity = np.mean(velocity)\n",
    "    \n",
    "    logfile = logfile_folders[k]\n",
    "    log = lammps_logfile.File(logfile)\n",
    "    pzz = log.get('Pzz')\n",
    "    min_pressure = np.min(pzz)\n",
    "    \n",
    "    if lz[k] == 600:\n",
    "        plt.figure(1)\n",
    "        plt.plot((min_pressure/10)*-1, mean_velocity, 'ro')\n",
    "        plt.xlabel('Initial tensile stress (MPa)')\n",
    "        plt.ylabel('Velocity (m/s)')\n",
    "        \n",
    "        #save_figure('/home/users/marthgg/2021_11_figures/compressive_stress.ps')\n",
    "    \n",
    "    else:\n",
    "   \n",
    "        plt.figure(1)\n",
    "        plt.plot((min_pressure/10)*-1, mean_velocity, 'o', color=get_color_value(float(lz[k]), 200, 1200), label='lz = %d' %lz[k])\n",
    "        plt.xlabel('Initial tensile stress (MPa)')\n",
    "        plt.ylabel('Velocity (m/s)')\n",
    "        print(mean_velocity)\n",
    "        \n",
    "        #save_figure('/home/users/marthgg/2021_11_figures/compressive_stress.ps')\n",
    "\n",
    "    k += 1\n",
    "    plt.legend()"
   ]
  },
  {
   "cell_type": "code",
   "execution_count": null,
   "id": "2d97fff8-2378-4b3b-ab92-3bed6598af37",
   "metadata": {},
   "outputs": [],
   "source": []
  }
 ],
 "metadata": {
  "kernelspec": {
   "display_name": "MD Analysis",
   "language": "python",
   "name": "md_analysis"
  },
  "language_info": {
   "codemirror_mode": {
    "name": "ipython",
    "version": 3
   },
   "file_extension": ".py",
   "mimetype": "text/x-python",
   "name": "python",
   "nbconvert_exporter": "python",
   "pygments_lexer": "ipython3",
   "version": "3.8.5"
  }
 },
 "nbformat": 4,
 "nbformat_minor": 5
}
