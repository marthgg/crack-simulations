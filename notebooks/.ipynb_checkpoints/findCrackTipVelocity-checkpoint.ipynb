{
 "cells": [
  {
   "cell_type": "markdown",
   "id": "painful-price",
   "metadata": {},
   "source": [
    "**Packages**"
   ]
  },
  {
   "cell_type": "code",
   "execution_count": 4,
   "id": "other-tactics",
   "metadata": {},
   "outputs": [],
   "source": [
    "import numpy as np\n",
    "import matplotlib.pyplot as plt\n",
    "import os\n",
    "\n",
    "from scipy.optimize import curve_fit\n",
    "\n",
    "from ovito.io import *\n",
    "from ovito.modifiers import *\n",
    "from ovito.pipeline import *\n",
    "\n",
    "# Packages form Henriks Github\n",
    "from lammps_logfile import running_mean, get_color_value\n",
    "from regex_file_collector import Collector\n",
    "from regex_file_collector.utils import floating_number_pattern\n",
    "import lammps_logfile"
   ]
  },
  {
   "cell_type": "markdown",
   "id": "faced-hampshire",
   "metadata": {},
   "source": [
    "**Select folder**"
   ]
  },
  {
   "cell_type": "code",
   "execution_count": 5,
   "id": "impressed-transcript",
   "metadata": {},
   "outputs": [
    {
     "name": "stdout",
     "output_type": "stream",
     "text": [
      "The pattern contains 1 capturing groups\n",
      "/home/users/marthgg/2021_11_rotate/crack_simulation_deformZ_1.050000/trajectory.bin\n",
      "/home/users/marthgg/2021_11_rotate/crack_simulation_deformZ_1.035000/trajectory.bin\n",
      "/home/users/marthgg/2021_11_rotate/crack_simulation_deformZ_1.045000/trajectory.bin\n",
      "/home/users/marthgg/2021_11_rotate/crack_simulation_deformZ_1.040000/trajectory.bin\n",
      "/home/users/marthgg/2021_11_rotate/crack_simulation_deformZ_1.030000/trajectory.bin\n"
     ]
    },
    {
     "data": {
      "text/plain": [
       "\"\\n\\npaths = ['/home/users/marthgg/2021_08_quartz_simulations/crack_simulation_deformZ_1.036997/trajectory.bin',\\n         '/home/users/marthgg/2021_08_quartz_simulations/crack_simulation_deformZ_1.03499/trajectory.bin',\\n         '/home/users/marthgg/2021_08_quartz_simulations/crack_simulation_deformZ_1.032990/trajectory.bin',\\n         '/home/users/marthgg/2021_08_quartz_simulations/crack_simulation_deformZ_1.037500/trajectory.bin']\\n\""
      ]
     },
     "execution_count": 5,
     "metadata": {},
     "output_type": "execute_result"
    }
   ],
   "source": [
    "#'''\n",
    "path = '/home/users/marthgg/2021_11_rotate'\n",
    "pattern = 'crack_simulation_'+floating_number_pattern('deformZ')+'/trajectory.bin'\n",
    "\n",
    "collection = Collector(path, pattern, fields=('deformZ'))\n",
    "simulations = collection.get_flat()\n",
    "\n",
    "'''\n",
    "\n",
    "paths = ['/home/users/marthgg/2021_08_quartz_simulations/crack_simulation_deformZ_1.036997/trajectory.bin',\n",
    "         '/home/users/marthgg/2021_08_quartz_simulations/crack_simulation_deformZ_1.03499/trajectory.bin',\n",
    "         '/home/users/marthgg/2021_08_quartz_simulations/crack_simulation_deformZ_1.032990/trajectory.bin',\n",
    "         '/home/users/marthgg/2021_08_quartz_simulations/crack_simulation_deformZ_1.037500/trajectory.bin']\n",
    "'''"
   ]
  },
  {
   "cell_type": "markdown",
   "id": "reserved-ready",
   "metadata": {},
   "source": [
    "**Sigmoidal fit**"
   ]
  },
  {
   "cell_type": "code",
   "execution_count": 6,
   "id": "assigned-chinese",
   "metadata": {},
   "outputs": [],
   "source": [
    "def sigmoid(x, c, b, a):\n",
    "    z = b*(x-c)\n",
    "    return a*np.where(z >= 0, 1 / (1 + np.exp(-z)), np.exp(z) / (1 + np.exp(z)))"
   ]
  },
  {
   "cell_type": "markdown",
   "id": "prospective-investing",
   "metadata": {},
   "source": [
    "**Function: Trajectory to fracture displacement file**"
   ]
  },
  {
   "cell_type": "code",
   "execution_count": 7,
   "id": "looking-controversy",
   "metadata": {},
   "outputs": [],
   "source": [
    "def trajectory_to_fracture_displacement(filename, n_bins=10, reference_frame=7):\n",
    "    \n",
    "    # Read in trajectory-file\n",
    "    pipeline = import_file(filename, multiple_frames=True)\n",
    "\n",
    "    position_crack_tip = []\n",
    "    frames = []\n",
    "    \n",
    "    frames_posCrack = []\n",
    "    \n",
    "    extra_zeros = np.zeros((50))\n",
    "\n",
    "    for frame in range(reference_frame, pipeline.source.num_frames):\n",
    "        \n",
    "        # Coordination analysis:\n",
    "        pipeline.modifiers.append(CoordinationAnalysisModifier(\n",
    "            number_of_bins = n_bins, \n",
    "            partial = True))\n",
    "\n",
    "        # Expression selection:\n",
    "        pipeline.modifiers.append(ExpressionSelectionModifier(\n",
    "            expression = 'Coordination>=4 || ParticleType==2'))\n",
    "        #pipeline.modifiers.append(ExpressionSelectionModifier(\n",
    "        #    expression = 'Coordination>=4 || ParticleType==2 || Position.Y > 118 || Position.Y < 5 || Position.Z > 200 '))\n",
    "        \n",
    "        # Delete selected:\n",
    "        pipeline.modifiers.append(DeleteSelectedModifier())\n",
    "\n",
    "        # Spatial binning:\n",
    "        pipeline.modifiers.append(SpatialBinningModifier(\n",
    "            property = 'Coordination', \n",
    "            reduction_operation = SpatialBinningModifier.Operation.Sum, \n",
    "            direction = SpatialBinningModifier.Direction.X, \n",
    "            bin_count = (95, 200, 200)))\n",
    "\n",
    "        #Extract and save data as a table\n",
    "        data = pipeline.compute(frame)\n",
    "        table = data.tables['binning'].xy()\n",
    "\n",
    "        pos_x = table[:,0]\n",
    "        coord = table[:,1]\n",
    "        \n",
    "        #mean_pos_x = running_mean(pos_x, 10)\n",
    "        #mean_coord = running_mean(coord, 10)\n",
    "\n",
    "        #pos_x = mean_pos_x[7:-7]\n",
    "        #coord = mean_coord[7:-7]\n",
    "\n",
    "        diff_pos = pos_x[1]-pos_x[0]\n",
    "\n",
    "        # Add extra zeroes at the end to get a better fit\n",
    "        new_pos = []\n",
    "        for i in range (0, len(extra_zeros)):\n",
    "            new_pos.append(pos_x[-1]+diff_pos*i)\n",
    "\n",
    "        pos_x = np.insert(pos_x, len(pos_x), new_pos)\n",
    "        coord = np.insert(coord, len(coord), extra_zeros)\n",
    "\n",
    "        # Make a sigmoidal fit (for x3000_y200: 500)\n",
    "        popt = [200]\n",
    "\n",
    "        try:\n",
    "            popt, pcov = curve_fit(sigmoid, pos_x, coord, p0=[popt[0], 0.001, (pos_x[0]+pos_x[-1])/2])\n",
    "        except RuntimeError as e: \n",
    "            print(e)\n",
    "            popt = [-1]\n",
    "                \n",
    "        position_crack_tip.append(popt[0])\n",
    "        \n",
    "    return position_crack_tip"
   ]
  },
  {
   "cell_type": "markdown",
   "id": "chicken-integrity",
   "metadata": {},
   "source": [
    "**Function: Save as file**"
   ]
  },
  {
   "cell_type": "code",
   "execution_count": 8,
   "id": "honest-armstrong",
   "metadata": {},
   "outputs": [],
   "source": [
    "def save_fracture_displacement(filename, overwrite=True, **kwargs):\n",
    "    outfile = \"fracture_displacement\"\n",
    "    \n",
    "    folder = os.path.dirname(filename)\n",
    "    \n",
    "    if overwrite or not os.path.isfile(os.path.join(folder, outfile+\".npy\")):\n",
    "        position_crack_tip = trajectory_to_fracture_displacement(filename, **kwargs)\n",
    "        np.save(os.path.join(folder,outfile), position_crack_tip, allow_pickle=False)"
   ]
  },
  {
   "cell_type": "markdown",
   "id": "imposed-simulation",
   "metadata": {},
   "source": [
    "**Find velocities and save data as .npy**"
   ]
  },
  {
   "cell_type": "code",
   "execution_count": null,
   "id": "accepted-brooklyn",
   "metadata": {},
   "outputs": [],
   "source": [
    "for deformZ, path in simulations.items():\n",
    "#for path in paths:\n",
    "   \n",
    "    filename = path\n",
    "    print(filename)\n",
    "    \n",
    "    save_fracture_displacement(filename)"
   ]
  },
  {
   "cell_type": "code",
   "execution_count": null,
   "id": "9c3a25ad-60e9-4964-ad70-28a69f3e6b03",
   "metadata": {},
   "outputs": [],
   "source": []
  },
  {
   "cell_type": "code",
   "execution_count": null,
   "id": "continued-punishment",
   "metadata": {},
   "outputs": [],
   "source": []
  }
 ],
 "metadata": {
  "kernelspec": {
   "display_name": "MD Analysis",
   "language": "python",
   "name": "md_analysis"
  },
  "language_info": {
   "codemirror_mode": {
    "name": "ipython",
    "version": 3
   },
   "file_extension": ".py",
   "mimetype": "text/x-python",
   "name": "python",
   "nbconvert_exporter": "python",
   "pygments_lexer": "ipython3",
   "version": "3.8.5"
  }
 },
 "nbformat": 4,
 "nbformat_minor": 5
}
