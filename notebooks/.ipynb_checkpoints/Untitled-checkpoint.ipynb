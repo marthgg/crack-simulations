{
 "cells": [
  {
   "cell_type": "code",
   "execution_count": null,
   "id": "clinical-bottle",
   "metadata": {},
   "outputs": [],
   "source": [
    "# Packages\n",
    "from ovito.io import *\n",
    "from ovito.modifiers import *\n",
    "from ovito.pipeline import *"
   ]
  },
  {
   "cell_type": "code",
   "execution_count": null,
   "id": "expensive-retailer",
   "metadata": {},
   "outputs": [],
   "source": [
    "# Functions\n",
    "\n",
    "def sigmoid(x, x0, k, a):\n",
    "    y = 1 / (1 + np.exp(-k*(x-x0))) * a \n",
    "    return y"
   ]
  },
  {
   "cell_type": "code",
   "execution_count": null,
   "id": "cultural-house",
   "metadata": {},
   "outputs": [],
   "source": [
    "# Import file and loop through all frames\n",
    "pipeline = import_file('/home/users/marthgg/simulation2/trajectory.bin', multiple_frames = True)\n",
    "\n",
    "position_crack_tip = []\n",
    "\n",
    "for frame in range(0, pipeline.source.num_frames):\n",
    "    \n",
    "    # Coordination analysis:\n",
    "    pipeline.modifiers.append(CoordinationAnalysisModifier(number_of_bins = 100, partial = True))\n",
    "    \n",
    "    # Expression selection:\n",
    "    pipeline.modifiers.append(ExpressionSelectionModifier(expression = 'Coordination>=4 || ParticleType==2'))\n",
    "    \n",
    "    # Delete selected:\n",
    "    pipeline.modifiers.append(DeleteSelectedModifier())\n",
    "    \n",
    "    # Spatial binning:\n",
    "    pipeline.modifiers.append(SpatialBinningModifier(property = 'Coordination', reduction_operation = SpatialBinningModifier.Operation.Sum, direction = SpatialBinningModifier.Direction.X, bin_count = (100, 200, 200)))\n",
    "\n",
    "    data = pipeline.compute(frame)\n",
    "    \n",
    "    table = data.tables['binning'].xy()\n",
    "        \n",
    "    position_x   = table[:,0]\n",
    "    coordination = table[:,1]\n",
    "\n",
    "    popt, pcov = curve_fit(sigmoid, position_x, coordination, p0=[100, 0.001, (position_x[0]+position_x[-1])/2])\n",
    "\n",
    "    sig_x = np.linspace(position_x[0], position_x[-1], len(position_x))\n",
    "    sig_y = sigmoid(sig_x, *popt)\n",
    "    \n",
    "    position_crack_tip.append(popt[0])\n",
    "    print(position_crack_tip)"
   ]
  },
  {
   "cell_type": "code",
   "execution_count": null,
   "id": "taken-shepherd",
   "metadata": {},
   "outputs": [],
   "source": []
  }
 ],
 "metadata": {
  "kernelspec": {
   "display_name": "MD Analysis",
   "language": "python",
   "name": "md_analysis"
  },
  "language_info": {
   "codemirror_mode": {
    "name": "ipython",
    "version": 3
   },
   "file_extension": ".py",
   "mimetype": "text/x-python",
   "name": "python",
   "nbconvert_exporter": "python",
   "pygments_lexer": "ipython3",
   "version": "3.8.5"
  }
 },
 "nbformat": 4,
 "nbformat_minor": 5
}
