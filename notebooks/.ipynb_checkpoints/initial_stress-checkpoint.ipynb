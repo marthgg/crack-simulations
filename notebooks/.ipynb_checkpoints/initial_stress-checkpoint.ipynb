{
 "cells": [
  {
   "cell_type": "code",
   "execution_count": 3,
   "id": "oriental-express",
   "metadata": {},
   "outputs": [
    {
     "name": "stdout",
     "output_type": "stream",
     "text": [
      "Initial stress: -1388.6016 MPa\n",
      "Initial stress: -1388.9095 MPa\n"
     ]
    }
   ],
   "source": [
    "import lammps_logfile\n",
    "import numpy as np\n",
    "\n",
    "logfile = '/home/users/marthgg/2021_10_change_pressureX/crack_simulation_pressX_2000/log2.lammps'\n",
    "\n",
    "log = lammps_logfile.File(logfile)\n",
    "pzz = log.get('Pzz')\n",
    "min_pressure = np.min(pzz)\n",
    "\n",
    "initial_stress = min_pressure/10\n",
    "\n",
    "print('Initial stress:', initial_stress, 'MPa')\n",
    "\n",
    "logfile = '/home/users/marthgg/2021_10_change_pressureX/crack_simulation_pressX_3000/log2.lammps'\n",
    "\n",
    "log = lammps_logfile.File(logfile)\n",
    "pzz = log.get('Pzz')\n",
    "min_pressure = np.min(pzz)\n",
    "\n",
    "initial_stress = min_pressure/10\n",
    "\n",
    "print('Initial stress:', initial_stress, 'MPa')\n"
   ]
  },
  {
   "cell_type": "code",
   "execution_count": 9,
   "id": "corporate-swiss",
   "metadata": {},
   "outputs": [
    {
     "name": "stdout",
     "output_type": "stream",
     "text": [
      "The pattern contains 1 capturing groups\n",
      "/home/users/marthgg/2021_08_quartz_simulations/x3000_z1200/crack_simulation_deformZ_1.050000/log.lammps\n",
      "/home/users/marthgg/2021_08_quartz_simulations/x3000_z1200/crack_simulation_deformZ_1.040000/log.lammps\n",
      "DeformZ:  1.050000  - Initial stress: -2062.4473000000003 MPa\n",
      "DeformZ:  1.040000  - Initial stress: -1746.2409 MPa\n"
     ]
    }
   ],
   "source": [
    "import lammps_logfile\n",
    "from regex_file_collector import Collector\n",
    "from regex_file_collector.utils import floating_number_pattern\n",
    "\n",
    "path = '/home/users/marthgg/2021_08_quartz_simulations/x3000_z1200'\n",
    "pattern = 'crack_simulation_'+floating_number_pattern('deformZ')+'/log.lammps'\n",
    "\n",
    "collection = Collector(path, pattern, fields=('deformZ'))\n",
    "simulations = collection.get_flat()\n",
    "\n",
    "for deformZ, path in simulations.items():\n",
    "    filename = path\n",
    "    #print(filename)\n",
    "    \n",
    "    log = lammps_logfile.File(filename)\n",
    "\n",
    "    pzz = log.get('Pzz')\n",
    "    min_pressure = np.min(pzz)\n",
    "\n",
    "    initial_stress = min_pressure/10\n",
    "\n",
    "    print('DeformZ: ', deformZ, ' - Initial stress:', initial_stress, 'MPa')"
   ]
  },
  {
   "cell_type": "code",
   "execution_count": null,
   "id": "transsexual-state",
   "metadata": {},
   "outputs": [],
   "source": [
    "import lammps_logfile\n",
    "from regex_file_collector import Collector\n",
    "from regex_file_collector.utils import floating_number_pattern\n",
    "\n",
    "path = '/home/users/marthgg/2021_08_quartz_simulations/x3000_z1200'\n",
    "pattern = 'crack_simulation_'+floating_number_pattern('deformZ')+'/log.lammps'\n",
    "\n",
    "collection = Collector(path, pattern, fields=('deformZ'))\n",
    "simulations = collection.get_flat()\n",
    "\n",
    "for deformZ, path in simulations.items():\n",
    "    filename = path\n",
    "    #print(filename)\n",
    "    \n",
    "    log = lammps_logfile.File(filename)\n",
    "    pzz = log.get('Pzz')\n",
    "    min_pressure = np.min(pzz)\n",
    "    \n",
    "    potEng = log.get('PotEng')\n",
    "    time = log.get('Time')\n",
    "        \n",
    "    min_pot = np.min(potEng)\n",
    "    pot = potEng[200:]\n",
    "    min_pot_crack = np.min(pot[100:])\n",
    "    \n",
    "    delta_up = min_pot_crack - min_pot #eV\n",
    "    delta_up_J = delta_up * 1.60218e-19 #Joules\n",
    "    \n",
    "    plt.plot(time/10, potEng*1.60218e-19, color=get_color_value(float(deformZ), 1.010000, 1.050000))#, cmap='jet'))\n",
    "    plt.axhline(min_pot*1.60218e-19, color='k', LineStyle='--')\n",
    "    plt.ylabel('Potential energy (J)')\n",
    "    plt.xlabel('Time (ps)')"
   ]
  }
 ],
 "metadata": {
  "kernelspec": {
   "display_name": "MD Analysis",
   "language": "python",
   "name": "md_analysis"
  },
  "language_info": {
   "codemirror_mode": {
    "name": "ipython",
    "version": 3
   },
   "file_extension": ".py",
   "mimetype": "text/x-python",
   "name": "python",
   "nbconvert_exporter": "python",
   "pygments_lexer": "ipython3",
   "version": "3.8.5"
  }
 },
 "nbformat": 4,
 "nbformat_minor": 5
}
