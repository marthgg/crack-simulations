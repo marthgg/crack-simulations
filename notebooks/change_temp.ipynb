{
 "cells": [
  {
   "cell_type": "markdown",
   "id": "1f5a6417-fd77-4e2e-803f-809087c45fe0",
   "metadata": {},
   "source": [
    "**Change in temperature**"
   ]
  },
  {
   "cell_type": "code",
   "execution_count": 1,
   "id": "5e030408-9702-459e-9cf4-3cd2105045de",
   "metadata": {},
   "outputs": [],
   "source": [
    "import numpy as np\n",
    "import matplotlib.pyplot as plt\n",
    "import os\n",
    "\n",
    "# Packages form Henriks Github\n",
    "from lammps_logfile import running_mean, get_color_value\n",
    "from regex_file_collector import Collector\n",
    "from regex_file_collector.utils import floating_number_pattern\n",
    "import lammps_logfile"
   ]
  },
  {
   "cell_type": "markdown",
   "id": "793c35ae-55e2-430d-88fd-f5074caac8f8",
   "metadata": {},
   "source": [
    "**Save figure**"
   ]
  },
  {
   "cell_type": "code",
   "execution_count": 2,
   "id": "ca0c1ee8-8a36-4d97-b691-5ab568ec323e",
   "metadata": {},
   "outputs": [],
   "source": [
    "def save_figure(output_file_name):\n",
    "    plt.savefig(output_file_name, dpi=None, facecolor='w', edgecolor='w', orientation='portrait')"
   ]
  },
  {
   "cell_type": "markdown",
   "id": "332fda85-a47b-4a96-83d2-173d351262e5",
   "metadata": {},
   "source": [
    "**Load files**"
   ]
  },
  {
   "cell_type": "code",
   "execution_count": 14,
   "id": "b730a68c-dc40-4935-b577-6eae1cd15087",
   "metadata": {},
   "outputs": [],
   "source": [
    "paths = ['/home/users/marthgg/2021_10_change_temp/crack_simulation_deformZ_320.000000/fracture_displacement.npy',\n",
    "         '/home/users/marthgg/2021_10_change_temp/crack_simulation_deformZ_550.000000/fracture_displacement.npy',\n",
    "         '/home/users/marthgg/2021_08_quartz_simulations/crack_simulation_deformZ_1.029000/fracture_displacement.npy']#,\n",
    "         #'/home/users/marthgg/2021_08_quartz_simulations/crack_simulation_deformZ_1.023591/fracture_displacement.npy',\n",
    "         #'/home/users/marthgg/2021_08_quartz_simulations/crack_simulation_deformZ_1.027194/fracture_displacement.npy']\n",
    "\n",
    "logfile_folders = ['/home/users/marthgg/2021_10_change_temp/crack_simulation_deformZ_320.000000/log.lammps',\n",
    "                   '/home/users/marthgg/2021_10_change_temp/crack_simulation_deformZ_550.000000/log.lammps',\n",
    "                   '/home/users/marthgg/2021_08_quartz_simulations/crack_simulation_deformZ_1.029000/log.lammps']\n",
    "                   #'/home/users/marthgg/2021_08_quartz_simulations/crack_simulation_deformZ_1.023591/log.lammps',\n",
    "                   #'/home/users/marthgg/2021_08_quartz_simulations/crack_simulation_deformZ_1.027194/log.lammps']\n",
    "\n",
    "temp = [320.000000, 550.000000, 300, 300, 300]"
   ]
  },
  {
   "cell_type": "code",
   "execution_count": 19,
   "id": "705db959-b249-4660-a1f8-94e2623ff61e",
   "metadata": {},
   "outputs": [
    {
     "name": "stdout",
     "output_type": "stream",
     "text": [
      "/home/users/marthgg/2021_10_change_temp/crack_simulation_deformZ_320.000000/fracture_displacement.npy\n",
      "39\n",
      "/home/users/marthgg/2021_10_change_temp/crack_simulation_deformZ_320.000000/log.lammps\n",
      "/home/users/marthgg/2021_10_change_temp/crack_simulation_deformZ_550.000000/log.lammps\n",
      "/home/users/marthgg/2021_08_quartz_simulations/crack_simulation_deformZ_1.029000/fracture_displacement.npy\n",
      "41\n",
      "/home/users/marthgg/2021_08_quartz_simulations/crack_simulation_deformZ_1.029000/log.lammps\n"
     ]
    },
    {
     "data": {
      "image/png": "[encoded data removed]",
      "text/plain": [
       "<Figure size 432x288 with 1 Axes>"
      ]
     },
     "metadata": {
      "needs_background": "light"
     },
     "output_type": "display_data"
    }
   ],
   "source": [
    "system_length = 3000\n",
    "crack_start_point = 150\n",
    "\n",
    "k = 0\n",
    "\n",
    "for path in paths:\n",
    "        \n",
    "    filename = path\n",
    "\n",
    "    data = np.load(filename, allow_pickle=False)\n",
    "    frames = list(range(0, len(data)))\n",
    "\n",
    "    filtered_data_crackTip = []\n",
    "    filtered_data_frames   = []\n",
    "\n",
    "    for i in range(0, len(data)):\n",
    "        if data[i] > crack_start_point and data[i] < system_length:\n",
    "            filtered_data_crackTip.append(data[i])\n",
    "            filtered_data_frames.append(frames[i])            \n",
    "    \n",
    "    for i in range(0, len(filtered_data_frames)):\n",
    "        if filtered_data_crackTip[i] > 2910:\n",
    "            print(filename)\n",
    "            print(filtered_data_frames[i])\n",
    "            break\n",
    "\n",
    "    # Find velocity\n",
    "    timestep = 0.001 # ps\n",
    "    dump_frequency = 10000\n",
    "\n",
    "    time_s = []\n",
    "    time = []\n",
    "    for i in range(0, len(filtered_data_frames)):\n",
    "        time.append(filtered_data_frames[i]*timestep*dump_frequency) #Time in ps\n",
    "        if filtered_data_crackTip[i] < 2910:\n",
    "            time_s.append(filtered_data_frames[i]*timestep*dump_frequency*(10**-12)) #time in s\n",
    "\n",
    "    position_m = []\n",
    "    for i in range(0, len(filtered_data_crackTip)):\n",
    "        if filtered_data_crackTip[i] < 2910:\n",
    "            position_m.append(filtered_data_crackTip[i]*(10**-10)) #distance in m\n",
    "\n",
    "    velocity = np.diff(position_m)/np.diff(time_s)\n",
    "    mean_velocity = np.mean(velocity)\n",
    "    \n",
    "    logfile = logfile_folders[k]\n",
    "    print(logfile)\n",
    "    log = lammps_logfile.File(logfile)\n",
    "    pzz = log.get('Pzz')\n",
    "    min_pressure = np.min(pzz)\n",
    "    \n",
    "    \n",
    "    if temp[k] == 300:\n",
    "        plt.figure(1)\n",
    "        plt.plot(temp[k], mean_velocity, 'ro')\n",
    "        plt.xlabel('Initial tensile stress (MPa)')\n",
    "        plt.ylabel('Velocity (m/s)')\n",
    "        \n",
    "        #save_figure('/home/users/marthgg/2021_11_figures/vary_temp.ps')\n",
    "    \n",
    "    else:\n",
    "        plt.figure(1)\n",
    "        plt.plot(temp[k], mean_velocity, 'o', color=get_color_value(float(temp[k]), 560, 570))\n",
    "        plt.xlabel('Initial tensile stress (MPa)')\n",
    "        plt.ylabel('Velocity (m/s)')\n",
    "        \n",
    "        #save_figure('/home/users/marthgg/2021_11_figures/vary_temp.ps')\n",
    "    \n",
    "    k += 1"
   ]
  },
  {
   "cell_type": "code",
   "execution_count": null,
   "id": "cde1898b-d19a-4ff5-8095-6a75117a3db0",
   "metadata": {},
   "outputs": [],
   "source": []
  }
 ],
 "metadata": {
  "kernelspec": {
   "display_name": "MD Analysis",
   "language": "python",
   "name": "md_analysis"
  },
  "language_info": {
   "codemirror_mode": {
    "name": "ipython",
    "version": 3
   },
   "file_extension": ".py",
   "mimetype": "text/x-python",
   "name": "python",
   "nbconvert_exporter": "python",
   "pygments_lexer": "ipython3",
   "version": "3.8.5"
  }
 },
 "nbformat": 4,
 "nbformat_minor": 5
}
