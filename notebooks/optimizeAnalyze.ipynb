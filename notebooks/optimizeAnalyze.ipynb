{
 "cells": [
  {
   "cell_type": "markdown",
   "id": "careful-hypothesis",
   "metadata": {},
   "source": [
    "Solve problem when values disappear when the crack is not propagating\n",
    "\n",
    "**Check popt = []** "
   ]
  },
  {
   "cell_type": "code",
   "execution_count": 16,
   "id": "tested-hacker",
   "metadata": {},
   "outputs": [],
   "source": [
    "import os\n",
    "import numpy as np\n",
    "import matplotlib.pyplot as plt\n",
    "from scipy.optimize import curve_fit\n",
    "\n",
    "from ovito.io import *\n",
    "from ovito.modifiers import *\n",
    "from ovito.pipeline import *\n",
    "\n",
    "# Packages form Henriks Github\n",
    "from lammps_logfile import running_mean, get_color_value\n",
    "from regex_file_collector import Collector\n",
    "from regex_file_collector.utils import floating_number_pattern\n",
    "import lammps_logfile"
   ]
  },
  {
   "cell_type": "code",
   "execution_count": 17,
   "id": "alone-preservation",
   "metadata": {},
   "outputs": [],
   "source": [
    "def sigmoid(x, c, b, a):\n",
    "    z = b*(x-c)\n",
    "    return a*np.where(z >= 0, 1 / (1 + np.exp(-z)), np.exp(z) / (1 + np.exp(z)))\n",
    "\n",
    "def sigmoid(x, c, b, a):\n",
    "    z = b*(x-c)\n",
    "    return a*np.where(z >= 0, 1 / (1 + np.exp(-z)), np.exp(z) / (1 + np.exp(z)))"
   ]
  },
  {
   "cell_type": "code",
   "execution_count": 34,
   "id": "qualified-dining",
   "metadata": {},
   "outputs": [
    {
     "name": "stdout",
     "output_type": "stream",
     "text": [
      "Optimal parameters not found: gtol=0.000000 is too small, func(x) is orthogonal to the columns of\n",
      "  the Jacobian to machine precision.\n"
     ]
    },
    {
     "ename": "TypeError",
     "evalue": "sigmoid() missing 2 required positional arguments: 'b' and 'a'",
     "output_type": "error",
     "traceback": [
      "\u001b[0;31m---------------------------------------------------------------------------\u001b[0m",
      "\u001b[0;31mTypeError\u001b[0m                                 Traceback (most recent call last)",
      "\u001b[0;32m<ipython-input-34-36da5433f05e>\u001b[0m in \u001b[0;36m<module>\u001b[0;34m\u001b[0m\n\u001b[1;32m     75\u001b[0m \u001b[0;34m\u001b[0m\u001b[0m\n\u001b[1;32m     76\u001b[0m     \u001b[0msig_x\u001b[0m \u001b[0;34m=\u001b[0m \u001b[0mnp\u001b[0m\u001b[0;34m.\u001b[0m\u001b[0mlinspace\u001b[0m\u001b[0;34m(\u001b[0m\u001b[0mpos_x\u001b[0m\u001b[0;34m[\u001b[0m\u001b[0;36m0\u001b[0m\u001b[0;34m]\u001b[0m\u001b[0;34m,\u001b[0m \u001b[0mpos_x\u001b[0m\u001b[0;34m[\u001b[0m\u001b[0;34m-\u001b[0m\u001b[0;36m1\u001b[0m\u001b[0;34m]\u001b[0m\u001b[0;34m,\u001b[0m \u001b[0mlen\u001b[0m\u001b[0;34m(\u001b[0m\u001b[0mpos_x\u001b[0m\u001b[0;34m)\u001b[0m\u001b[0;34m)\u001b[0m\u001b[0;34m\u001b[0m\u001b[0;34m\u001b[0m\u001b[0m\n\u001b[0;32m---> 77\u001b[0;31m     \u001b[0msig_y\u001b[0m \u001b[0;34m=\u001b[0m \u001b[0msigmoid\u001b[0m\u001b[0;34m(\u001b[0m\u001b[0msig_x\u001b[0m\u001b[0;34m,\u001b[0m \u001b[0;34m*\u001b[0m\u001b[0mpopt\u001b[0m\u001b[0;34m)\u001b[0m\u001b[0;34m\u001b[0m\u001b[0;34m\u001b[0m\u001b[0m\n\u001b[0m\u001b[1;32m     78\u001b[0m \u001b[0;34m\u001b[0m\u001b[0m\n\u001b[1;32m     79\u001b[0m     \u001b[0mplt\u001b[0m\u001b[0;34m.\u001b[0m\u001b[0mfigure\u001b[0m\u001b[0;34m(\u001b[0m\u001b[0;34m)\u001b[0m\u001b[0;34m\u001b[0m\u001b[0;34m\u001b[0m\u001b[0m\n",
      "\u001b[0;31mTypeError\u001b[0m: sigmoid() missing 2 required positional arguments: 'b' and 'a'"
     ]
    }
   ],
   "source": [
    "filename = '/home/users/marthgg/2021_05_simulations_quartz_relaxed_structure/angle_30/crack_simulation_deformZ_1.031881/trajectory.bin'\n",
    "\n",
    "n_bins=10\n",
    "\n",
    "reference_frame=7\n",
    "\n",
    "    \n",
    "# Read in trajectory-file\n",
    "pipeline = import_file(filename, multiple_frames=True)\n",
    "\n",
    "position_crack_tip = []\n",
    "frames = []\n",
    "\n",
    "frames_posCrack = []\n",
    "\n",
    "extra_zeros = np.zeros((50))\n",
    "\n",
    "for frame in range(reference_frame, pipeline.source.num_frames):\n",
    "\n",
    "    # Coordination analysis:\n",
    "    pipeline.modifiers.append(CoordinationAnalysisModifier(\n",
    "        number_of_bins = n_bins, \n",
    "        partial = True))\n",
    "\n",
    "    # Expression selection:\n",
    "    pipeline.modifiers.append(ExpressionSelectionModifier(\n",
    "        expression = 'Coordination>=4 || ParticleType==2 || Position.Y > 118 || Position.Y < 5 || Position.Z > 200 '))\n",
    "\n",
    "    # Delete selected:\n",
    "    pipeline.modifiers.append(DeleteSelectedModifier())\n",
    "\n",
    "    # Spatial binning:\n",
    "    pipeline.modifiers.append(SpatialBinningModifier(\n",
    "        property = 'Coordination', \n",
    "        reduction_operation = SpatialBinningModifier.Operation.Sum, \n",
    "        direction = SpatialBinningModifier.Direction.X, \n",
    "        bin_count = (95, 200, 200)))\n",
    "\n",
    "    #Extract and save data as a table\n",
    "    data = pipeline.compute(frame)\n",
    "    table = data.tables['binning'].xy()\n",
    "\n",
    "    pos_x = table[:,0]\n",
    "    coord = table[:,1]\n",
    "\n",
    "    mean_pos_x = running_mean(pos_x, 10)\n",
    "    mean_coord = running_mean(coord, 10)\n",
    "\n",
    "    pos_x = mean_pos_x[7:-7]\n",
    "    coord = mean_coord[7:-7]\n",
    "\n",
    "    diff_pos = pos_x[1]-pos_x[0]\n",
    "\n",
    "    # Add extra zeroes at the end to get a better fit\n",
    "    new_pos = []\n",
    "    for i in range (0, len(extra_zeros)):\n",
    "        new_pos.append(pos_x[-1]+diff_pos*i)\n",
    "\n",
    "    pos_x = np.insert(pos_x, len(pos_x), new_pos)\n",
    "    coord = np.insert(coord, len(coord), extra_zeros)\n",
    "\n",
    "    # Make a sigmoidal fit\n",
    "    popt = [200]\n",
    "\n",
    "    try:\n",
    "        popt, pcov = curve_fit(sigmoid, pos_x, coord, p0=[popt[0], 0.001, (pos_x[0]+pos_x[-1])/2])\n",
    "    except RuntimeError as e: \n",
    "        print(e)\n",
    "        popt = [-1]\n",
    "\n",
    "    #print(popt[0])\n",
    "\n",
    "    position_crack_tip.append(popt[0])\n",
    "    frames.append(frame)\n",
    "\n",
    "    sig_x = np.linspace(pos_x[0], pos_x[-1], len(pos_x))\n",
    "    sig_y = sigmoid(sig_x, *popt)\n",
    "\n",
    "    plt.figure()\n",
    "    plt.plot(pos_x, coord, label='data')\n",
    "    plt.plot(sig_x, sig_y, label='fit')\n",
    "    plt.legend()\n",
    "    plt.show()\n",
    "\n",
    "    position_crack_tip.append(popt[0])"
   ]
  },
  {
   "cell_type": "code",
   "execution_count": null,
   "id": "strange-pontiac",
   "metadata": {},
   "outputs": [],
   "source": []
  }
 ],
 "metadata": {
  "kernelspec": {
   "display_name": "MD Analysis",
   "language": "python",
   "name": "md_analysis"
  },
  "language_info": {
   "codemirror_mode": {
    "name": "ipython",
    "version": 3
   },
   "file_extension": ".py",
   "mimetype": "text/x-python",
   "name": "python",
   "nbconvert_exporter": "python",
   "pygments_lexer": "ipython3",
   "version": "3.8.5"
  }
 },
 "nbformat": 4,
 "nbformat_minor": 5
}
