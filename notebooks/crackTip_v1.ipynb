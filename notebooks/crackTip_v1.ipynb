{
 "cells": [
  {
   "cell_type": "code",
   "execution_count": 4,
   "id": "entitled-trauma",
   "metadata": {},
   "outputs": [],
   "source": [
    "# Packages\n",
    "from ovito.io import *\n",
    "from ovito.modifiers import *\n",
    "from ovito.pipeline import *\n",
    "\n",
    "import matplotlib.pyplot as plt\n",
    "from scipy.optimize import curve_fit\n",
    "import numpy as np"
   ]
  },
  {
   "cell_type": "code",
   "execution_count": 5,
   "id": "collected-blake",
   "metadata": {},
   "outputs": [],
   "source": [
    "# Functions\n",
    "\n",
    "def sigmoid(x, x0, k, a):\n",
    "    y = 1 / (1 + np.exp(-k*(x-x0))) * a \n",
    "    return y\n"
   ]
  },
  {
   "cell_type": "code",
   "execution_count": 31,
   "id": "swedish-folder",
   "metadata": {},
   "outputs": [
    {
     "name": "stderr",
     "output_type": "stream",
     "text": [
      "<ipython-input-5-11df9a8ae5a3>:4: RuntimeWarning: overflow encountered in exp\n",
      "  y = 1 / (1 + np.exp(-k*(x-x0))) * a\n"
     ]
    },
    {
     "name": "stdout",
     "output_type": "stream",
     "text": [
      "[263.61642102700097, 282.3571360421802, 286.32077609122825, 289.13638514191604, 314.81622556731776, 350.90339674418766, 387.36889051767776, 422.41281594044705, 449.6708651471616, 494.2393950636499, 529.2717005713081, 565.7173855325948, 601.7985647826774, 639.2399589704878, 685.0837105829087, 722.3975898432659, 767.9286291373336, 798.60828926835, 834.3021255720674, 880.7012479683166, 922.839859962518, 958.3577846090487, 965.4917308395924, 966.0031255988387, 966.1270344725789, 965.2010003759244, 966.0773409355144, 962.8126169051307, 965.216530907743, 967.2300658815674, 966.6800340505969, 966.3769160821683, 963.6540349307094, 965.1054374121408, 961.4681880186508, 965.2256147453403, 965.7679306419185, 966.2146741579224, 964.9396631582536, 965.4364800847648, 964.8230520090456, 963.833908050807, 962.7722826625417, 966.5115822613225, 966.3544196657798, 963.0108581301699, 965.094008451147, 964.6033959234588, 962.4584651717555]\n",
      "49\n"
     ]
    }
   ],
   "source": [
    "# Import data and loop through all frames\n",
    "pipeline = import_file('/home/users/marthgg/simulation2/trajectory.bin', multiple_frames = True)\n",
    "\n",
    "position_crack_tip = []\n",
    "frames = []\n",
    "\n",
    "extra_zeros = np.zeros((1))\n",
    "\n",
    "#Initial guess for the sigmoidal function\n",
    "#popt = [100]\n",
    "\n",
    "for frame in range(7, pipeline.source.num_frames):\n",
    "    \n",
    "    # Affine transformation:\n",
    "    pipeline.modifiers.append(AffineTransformationModifier(target_cell = [[1190.518, 0.0, 0.0, 10.005285762100016], [0.0, 82.7295483417, 0.0, 0.0], [0.0, 0.0, 108.52951440734999, -1.8350400986749946]], relative_mode = False, operate_on = {'voxels', 'dislocations', 'cell', 'vector_properties', 'surfaces'}))\n",
    "    \n",
    "    # Coordination analysis:\n",
    "    pipeline.modifiers.append(CoordinationAnalysisModifier(number_of_bins = 100, partial = True))\n",
    "    \n",
    "    # Expression selection:\n",
    "    pipeline.modifiers.append(ExpressionSelectionModifier(expression = 'Coordination>=4 || ParticleType==2'))\n",
    "    \n",
    "    # Delete selected:\n",
    "    pipeline.modifiers.append(DeleteSelectedModifier())\n",
    "    \n",
    "    # Spatial binning:\n",
    "    pipeline.modifiers.append(SpatialBinningModifier(property = 'Coordination', reduction_operation = SpatialBinningModifier.Operation.Sum, direction = SpatialBinningModifier.Direction.X, bin_count = (100, 200, 200)))\n",
    "\n",
    "    data = pipeline.compute(frame)\n",
    "    \n",
    "    table = data.tables['binning'].xy()\n",
    "        \n",
    "    position_x   = table[:,0]\n",
    "    coordination = table[:,1]\n",
    "    \n",
    "    increase_pos = position_x[1]-position_x[0]\n",
    "\n",
    "    #position_x = np.insert(position_x, len(position_x), [position_x[-1]+increase_pos, position_x[-1]+increase_pos*2, position_x[-1]+increase_pos*3, position_x[-1]+increase_pos*4, position_x[-1]+increase_pos*5])\n",
    "    #coordination = np.insert(coordination, len(coordination), extra_zeros)\n",
    "    \n",
    "    popt = [100]\n",
    "    \n",
    "    popt, pcov = curve_fit(sigmoid, position_x, coordination, p0=[popt[0], 0.001, (position_x[0]+position_x[-1])/2])\n",
    "\n",
    "    sig_x = np.linspace(position_x[0], position_x[-1], len(position_x))\n",
    "    sig_y = sigmoid(sig_x, *popt)\n",
    "    \n",
    "    #plt.figure()\n",
    "    #plt.plot(position_x, coordination, label='data')\n",
    "    #plt.plot(sig_x, sig_y, label='fit')\n",
    "    #plt.legend()\n",
    "    #plt.show()\n",
    "    \n",
    "    #print(popt[0])\n",
    "    # if popt[0] > 2000:\n",
    "        #print('Something wrong')\n",
    "    #elif popt[0] < -100:\n",
    "        #print('Something wrong')\n",
    "    #else: \n",
    "    position_crack_tip.append(popt[0])\n",
    "    frames.append(frame)\n",
    "    \n",
    "    if frame > 3:\n",
    "        if np.abs(popt[0]-position_crack_tip[len(position_crack_tip)-2]) > 500:\n",
    "            position_crack_tip.pop(-1)\n",
    "            frames.pop(-1)\n",
    "\n",
    "print(position_crack_tip)\n",
    "print(len(position_crack_tip))"
   ]
  },
  {
   "cell_type": "code",
   "execution_count": 32,
   "id": "disciplinary-wallet",
   "metadata": {},
   "outputs": [
    {
     "name": "stdout",
     "output_type": "stream",
     "text": [
      "49\n"
     ]
    },
    {
     "data": {
      "image/png": "[encoded data removed]",
      "text/plain": [
       "<Figure size 432x288 with 1 Axes>"
      ]
     },
     "metadata": {
      "needs_background": "light"
     },
     "output_type": "display_data"
    }
   ],
   "source": [
    "# Plot crack tip position with frame\n",
    "\n",
    "velocity = []\n",
    "print(len(frames))\n",
    "for i in range(0, len(frames)):\n",
    "    velocity.append(position_crack_tip[i]/frames[i])\n",
    "\n",
    "plt.figure(1)\n",
    "plt.plot(position_crack_tip, velocity)\n",
    "plt.xlabel('Position X')\n",
    "plt.ylabel('Velocity (Å/ps)')\n",
    "plt.show()"
   ]
  },
  {
   "cell_type": "code",
   "execution_count": null,
   "id": "received-berkeley",
   "metadata": {},
   "outputs": [],
   "source": []
  },
  {
   "cell_type": "code",
   "execution_count": null,
   "id": "sharing-affair",
   "metadata": {},
   "outputs": [],
   "source": []
  }
 ],
 "metadata": {
  "kernelspec": {
   "display_name": "MD Analysis",
   "language": "python",
   "name": "md_analysis"
  },
  "language_info": {
   "codemirror_mode": {
    "name": "ipython",
    "version": 3
   },
   "file_extension": ".py",
   "mimetype": "text/x-python",
   "name": "python",
   "nbconvert_exporter": "python",
   "pygments_lexer": "ipython3",
   "version": "3.8.5"
  }
 },
 "nbformat": 4,
 "nbformat_minor": 5
}
